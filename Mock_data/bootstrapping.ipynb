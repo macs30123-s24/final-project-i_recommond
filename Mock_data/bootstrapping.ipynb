{
 "cells": [
  {
   "cell_type": "markdown",
   "metadata": {},
   "source": [
    "## Bootstraping the original dataset"
   ]
  },
  {
   "cell_type": "code",
   "execution_count": 1,
   "metadata": {},
   "outputs": [],
   "source": [
    "import pandas as pd\n",
    "import numpy as np\n",
    "from faker import Faker\n",
    "\n",
    "# Initialize Faker\n",
    "fake = Faker()\n"
   ]
  },
  {
   "cell_type": "code",
   "execution_count": 2,
   "metadata": {},
   "outputs": [],
   "source": [
    "# Load the CSV data into a DataFrame\n",
    "df = pd.read_csv('user_interaction.csv')"
   ]
  },
  {
   "cell_type": "code",
   "execution_count": 3,
   "metadata": {},
   "outputs": [
    {
     "data": {
      "text/html": [
       "<div>\n",
       "<style scoped>\n",
       "    .dataframe tbody tr th:only-of-type {\n",
       "        vertical-align: middle;\n",
       "    }\n",
       "\n",
       "    .dataframe tbody tr th {\n",
       "        vertical-align: top;\n",
       "    }\n",
       "\n",
       "    .dataframe thead th {\n",
       "        text-align: right;\n",
       "    }\n",
       "</style>\n",
       "<table border=\"1\" class=\"dataframe\">\n",
       "  <thead>\n",
       "    <tr style=\"text-align: right;\">\n",
       "      <th></th>\n",
       "      <th>uid</th>\n",
       "      <th>userName</th>\n",
       "      <th>catagory</th>\n",
       "      <th>sub_catagory</th>\n",
       "      <th>product</th>\n",
       "      <th>listing_amount</th>\n",
       "      <th>counts</th>\n",
       "      <th>total_bid_amount</th>\n",
       "    </tr>\n",
       "  </thead>\n",
       "  <tbody>\n",
       "    <tr>\n",
       "      <th>3368</th>\n",
       "      <td>46f99726-e67a-43ea-9bde-1c3c2b2d1a00</td>\n",
       "      <td>talonjameson</td>\n",
       "      <td>Video Games &amp; Consoles</td>\n",
       "      <td>Video Games</td>\n",
       "      <td>PS4 Black Fag signed by Matt Ryan</td>\n",
       "      <td>1</td>\n",
       "      <td>3</td>\n",
       "      <td>9</td>\n",
       "    </tr>\n",
       "    <tr>\n",
       "      <th>3369</th>\n",
       "      <td>5dce8cf3-36fc-4689-b13f-345d5d4fae2b</td>\n",
       "      <td>GameOfPops</td>\n",
       "      <td>Video Games &amp; Consoles</td>\n",
       "      <td>Video Games</td>\n",
       "      <td>PS4 Black Fag signed by Matt Ryan</td>\n",
       "      <td>1</td>\n",
       "      <td>2</td>\n",
       "      <td>29</td>\n",
       "    </tr>\n",
       "    <tr>\n",
       "      <th>3370</th>\n",
       "      <td>919a3bf3-35d0-4256-91c0-c90f64a20991</td>\n",
       "      <td>ShylockDT</td>\n",
       "      <td>Video Games &amp; Consoles</td>\n",
       "      <td>Video Games</td>\n",
       "      <td>PS4 Black Fag signed by Matt Ryan</td>\n",
       "      <td>1</td>\n",
       "      <td>1</td>\n",
       "      <td>4</td>\n",
       "    </tr>\n",
       "    <tr>\n",
       "      <th>3371</th>\n",
       "      <td>e0ce123a-86f5-47b0-b38d-1ccf4c27dea3</td>\n",
       "      <td>popculturejohn</td>\n",
       "      <td>Video Games &amp; Consoles</td>\n",
       "      <td>Video Games</td>\n",
       "      <td>PS4 Black Fag signed by Matt Ryan</td>\n",
       "      <td>1</td>\n",
       "      <td>1</td>\n",
       "      <td>2</td>\n",
       "    </tr>\n",
       "    <tr>\n",
       "      <th>3372</th>\n",
       "      <td>5dce8cf3-36fc-4689-b13f-345d5d4fae2b</td>\n",
       "      <td>GameOfPops</td>\n",
       "      <td>Video Games &amp; Consoles</td>\n",
       "      <td>Video Games</td>\n",
       "      <td>Xbox 360 Bkack flag singned by Matt Ryan</td>\n",
       "      <td>1</td>\n",
       "      <td>1</td>\n",
       "      <td>1</td>\n",
       "    </tr>\n",
       "  </tbody>\n",
       "</table>\n",
       "</div>"
      ],
      "text/plain": [
       "                                       uid         userName  \\\n",
       "3368  46f99726-e67a-43ea-9bde-1c3c2b2d1a00     talonjameson   \n",
       "3369  5dce8cf3-36fc-4689-b13f-345d5d4fae2b       GameOfPops   \n",
       "3370  919a3bf3-35d0-4256-91c0-c90f64a20991        ShylockDT   \n",
       "3371  e0ce123a-86f5-47b0-b38d-1ccf4c27dea3  popculturejohn    \n",
       "3372  5dce8cf3-36fc-4689-b13f-345d5d4fae2b       GameOfPops   \n",
       "\n",
       "                    catagory sub_catagory  \\\n",
       "3368  Video Games & Consoles  Video Games   \n",
       "3369  Video Games & Consoles  Video Games   \n",
       "3370  Video Games & Consoles  Video Games   \n",
       "3371  Video Games & Consoles  Video Games   \n",
       "3372  Video Games & Consoles  Video Games   \n",
       "\n",
       "                                       product  listing_amount  counts  \\\n",
       "3368         PS4 Black Fag signed by Matt Ryan               1       3   \n",
       "3369         PS4 Black Fag signed by Matt Ryan               1       2   \n",
       "3370         PS4 Black Fag signed by Matt Ryan               1       1   \n",
       "3371         PS4 Black Fag signed by Matt Ryan               1       1   \n",
       "3372  Xbox 360 Bkack flag singned by Matt Ryan               1       1   \n",
       "\n",
       "      total_bid_amount  \n",
       "3368                 9  \n",
       "3369                29  \n",
       "3370                 4  \n",
       "3371                 2  \n",
       "3372                 1  "
      ]
     },
     "execution_count": 3,
     "metadata": {},
     "output_type": "execute_result"
    }
   ],
   "source": [
    "df.tail()"
   ]
  },
  {
   "cell_type": "code",
   "execution_count": 4,
   "metadata": {},
   "outputs": [
    {
     "name": "stdout",
     "output_type": "stream",
     "text": [
      "<class 'pandas.core.frame.DataFrame'>\n",
      "RangeIndex: 3373 entries, 0 to 3372\n",
      "Data columns (total 8 columns):\n",
      " #   Column            Non-Null Count  Dtype \n",
      "---  ------            --------------  ----- \n",
      " 0   uid               3373 non-null   object\n",
      " 1   userName          3373 non-null   object\n",
      " 2   catagory          3373 non-null   object\n",
      " 3   sub_catagory      3373 non-null   object\n",
      " 4   product           3373 non-null   object\n",
      " 5   listing_amount    3373 non-null   int64 \n",
      " 6   counts            3373 non-null   int64 \n",
      " 7   total_bid_amount  3373 non-null   int64 \n",
      "dtypes: int64(3), object(5)\n",
      "memory usage: 210.9+ KB\n"
     ]
    }
   ],
   "source": [
    "df.info()"
   ]
  },
  {
   "cell_type": "code",
   "execution_count": 5,
   "metadata": {},
   "outputs": [],
   "source": [
    "# Number of data points needed\n",
    "desired_data_points = 100000"
   ]
  },
  {
   "cell_type": "code",
   "execution_count": 6,
   "metadata": {},
   "outputs": [],
   "source": [
    "# Function to generate fake data\n",
    "def generate_fake_data():\n",
    "    return {\n",
    "        'uid': fake.uuid4(),\n",
    "        'userName': fake.user_name(),\n",
    "        'catagory': fake.word(),\n",
    "        'sub_catagory': fake.word(),\n",
    "        'product': fake.word(),\n",
    "        'listing_amount': round(np.random.uniform(10, 1000), 2),\n",
    "        'counts': np.random.randint(1, 20),\n",
    "        'total_bid_amount': round(np.random.poisson(50), 2)\n",
    "    }\n"
   ]
  },
  {
   "cell_type": "code",
   "execution_count": 7,
   "metadata": {},
   "outputs": [],
   "source": [
    "# Determine how many additional data points are needed\n",
    "additional_data_points = desired_data_points - len(df)\n",
    "\n",
    "# Generate the additional data points\n",
    "fake_data = [generate_fake_data() for _ in range(additional_data_points)]\n",
    "\n",
    "# Create a DataFrame with the fake data\n",
    "fake_df = pd.DataFrame(fake_data)"
   ]
  },
  {
   "cell_type": "code",
   "execution_count": 8,
   "metadata": {},
   "outputs": [],
   "source": [
    "# Combine the original data with the fake data\n",
    "expanded_df = pd.concat([df, fake_df], ignore_index=True)"
   ]
  },
  {
   "cell_type": "code",
   "execution_count": 9,
   "metadata": {},
   "outputs": [
    {
     "name": "stdout",
     "output_type": "stream",
     "text": [
      "<class 'pandas.core.frame.DataFrame'>\n",
      "RangeIndex: 100000 entries, 0 to 99999\n",
      "Data columns (total 8 columns):\n",
      " #   Column            Non-Null Count   Dtype  \n",
      "---  ------            --------------   -----  \n",
      " 0   uid               100000 non-null  object \n",
      " 1   userName          100000 non-null  object \n",
      " 2   catagory          100000 non-null  object \n",
      " 3   sub_catagory      100000 non-null  object \n",
      " 4   product           100000 non-null  object \n",
      " 5   listing_amount    100000 non-null  float64\n",
      " 6   counts            100000 non-null  int64  \n",
      " 7   total_bid_amount  100000 non-null  int64  \n",
      "dtypes: float64(1), int64(2), object(5)\n",
      "memory usage: 6.1+ MB\n"
     ]
    }
   ],
   "source": [
    "expanded_df.info()"
   ]
  },
  {
   "cell_type": "code",
   "execution_count": 10,
   "metadata": {},
   "outputs": [
    {
     "data": {
      "text/html": [
       "<div>\n",
       "<style scoped>\n",
       "    .dataframe tbody tr th:only-of-type {\n",
       "        vertical-align: middle;\n",
       "    }\n",
       "\n",
       "    .dataframe tbody tr th {\n",
       "        vertical-align: top;\n",
       "    }\n",
       "\n",
       "    .dataframe thead th {\n",
       "        text-align: right;\n",
       "    }\n",
       "</style>\n",
       "<table border=\"1\" class=\"dataframe\">\n",
       "  <thead>\n",
       "    <tr style=\"text-align: right;\">\n",
       "      <th></th>\n",
       "      <th>uid</th>\n",
       "      <th>userName</th>\n",
       "      <th>catagory</th>\n",
       "      <th>sub_catagory</th>\n",
       "      <th>product</th>\n",
       "      <th>listing_amount</th>\n",
       "      <th>counts</th>\n",
       "      <th>total_bid_amount</th>\n",
       "    </tr>\n",
       "  </thead>\n",
       "  <tbody>\n",
       "    <tr>\n",
       "      <th>99995</th>\n",
       "      <td>1e3002b8-e0aa-4394-a9c6-31c98c330c33</td>\n",
       "      <td>bonnieallison</td>\n",
       "      <td>play</td>\n",
       "      <td>born</td>\n",
       "      <td>house</td>\n",
       "      <td>28.49</td>\n",
       "      <td>14</td>\n",
       "      <td>38</td>\n",
       "    </tr>\n",
       "    <tr>\n",
       "      <th>99996</th>\n",
       "      <td>3f8c0fc6-3054-4709-ba3a-0874d7481096</td>\n",
       "      <td>christopher36</td>\n",
       "      <td>cultural</td>\n",
       "      <td>figure</td>\n",
       "      <td>way</td>\n",
       "      <td>31.44</td>\n",
       "      <td>5</td>\n",
       "      <td>39</td>\n",
       "    </tr>\n",
       "    <tr>\n",
       "      <th>99997</th>\n",
       "      <td>e10c8f5e-44a2-43a6-b91d-47f40c7b5696</td>\n",
       "      <td>lopezspencer</td>\n",
       "      <td>hope</td>\n",
       "      <td>heart</td>\n",
       "      <td>gun</td>\n",
       "      <td>825.51</td>\n",
       "      <td>7</td>\n",
       "      <td>50</td>\n",
       "    </tr>\n",
       "    <tr>\n",
       "      <th>99998</th>\n",
       "      <td>a6634bc3-c896-4842-8756-bc25a6324928</td>\n",
       "      <td>harolddavis</td>\n",
       "      <td>return</td>\n",
       "      <td>realize</td>\n",
       "      <td>sometimes</td>\n",
       "      <td>383.06</td>\n",
       "      <td>3</td>\n",
       "      <td>48</td>\n",
       "    </tr>\n",
       "    <tr>\n",
       "      <th>99999</th>\n",
       "      <td>3ed438d8-57d0-4dc0-bffe-ebd6747ad76b</td>\n",
       "      <td>markwhite</td>\n",
       "      <td>data</td>\n",
       "      <td>political</td>\n",
       "      <td>improve</td>\n",
       "      <td>890.16</td>\n",
       "      <td>6</td>\n",
       "      <td>41</td>\n",
       "    </tr>\n",
       "  </tbody>\n",
       "</table>\n",
       "</div>"
      ],
      "text/plain": [
       "                                        uid       userName  catagory  \\\n",
       "99995  1e3002b8-e0aa-4394-a9c6-31c98c330c33  bonnieallison      play   \n",
       "99996  3f8c0fc6-3054-4709-ba3a-0874d7481096  christopher36  cultural   \n",
       "99997  e10c8f5e-44a2-43a6-b91d-47f40c7b5696   lopezspencer      hope   \n",
       "99998  a6634bc3-c896-4842-8756-bc25a6324928    harolddavis    return   \n",
       "99999  3ed438d8-57d0-4dc0-bffe-ebd6747ad76b      markwhite      data   \n",
       "\n",
       "      sub_catagory    product  listing_amount  counts  total_bid_amount  \n",
       "99995         born      house           28.49      14                38  \n",
       "99996       figure        way           31.44       5                39  \n",
       "99997        heart        gun          825.51       7                50  \n",
       "99998      realize  sometimes          383.06       3                48  \n",
       "99999    political    improve          890.16       6                41  "
      ]
     },
     "execution_count": 10,
     "metadata": {},
     "output_type": "execute_result"
    }
   ],
   "source": [
    "expanded_df.tail()"
   ]
  },
  {
   "cell_type": "code",
   "execution_count": 11,
   "metadata": {},
   "outputs": [],
   "source": [
    "expanded_df.to_csv('fake_user_interaction.csv', index=False)"
   ]
  }
 ],
 "metadata": {
  "kernelspec": {
   "display_name": "macs30123",
   "language": "python",
   "name": "python3"
  },
  "language_info": {
   "codemirror_mode": {
    "name": "ipython",
    "version": 3
   },
   "file_extension": ".py",
   "mimetype": "text/x-python",
   "name": "python",
   "nbconvert_exporter": "python",
   "pygments_lexer": "ipython3",
   "version": "3.9.19"
  }
 },
 "nbformat": 4,
 "nbformat_minor": 2
}
