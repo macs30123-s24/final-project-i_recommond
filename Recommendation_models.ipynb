{
 "cells": [
  {
   "cell_type": "code",
   "execution_count": 1,
   "metadata": {},
   "outputs": [
    {
     "data": {
      "text/html": [
       "Current session configs: <tt>{'conf': {'spark.pyspark.python': 'python3', 'spark.pyspark.virtualenv.enabled': 'true', 'spark.pyspark.virtualenv.type': 'native', 'spark.pyspark.virtualenv.bin.path': '/usr/bin/virtualenv'}, 'proxyUser': 'jovyan', 'kind': 'pyspark'}</tt><br>"
      ],
      "text/plain": [
       "<IPython.core.display.HTML object>"
      ]
     },
     "metadata": {},
     "output_type": "display_data"
    },
    {
     "data": {
      "text/html": [
       "No active sessions."
      ],
      "text/plain": [
       "<IPython.core.display.HTML object>"
      ]
     },
     "metadata": {},
     "output_type": "display_data"
    }
   ],
   "source": [
    "%%configure -f\n",
    "{\n",
    "    \"conf\": {\n",
    "        \"spark.pyspark.python\": \"python3\",\n",
    "        \"spark.pyspark.virtualenv.enabled\": \"true\",\n",
    "        \"spark.pyspark.virtualenv.type\":\"native\",\n",
    "        \"spark.pyspark.virtualenv.bin.path\":\"/usr/bin/virtualenv\"\n",
    "    }\n",
    "}"
   ]
  },
  {
   "cell_type": "code",
   "execution_count": 2,
   "metadata": {},
   "outputs": [
    {
     "name": "stdout",
     "output_type": "stream",
     "text": [
      "Starting Spark application\n"
     ]
    },
    {
     "data": {
      "text/html": [
       "<table>\n",
       "<tr><th>ID</th><th>YARN Application ID</th><th>Kind</th><th>State</th><th>Spark UI</th><th>Driver log</th><th>Current session?</th></tr><tr><td>3</td><td>application_1716564517486_0005</td><td>pyspark</td><td>idle</td><td><a target=\"_blank\" href=\"http://ip-172-31-35-15.ec2.internal:20888/proxy/application_1716564517486_0005/\">Link</a></td><td><a target=\"_blank\" href=\"http://ip-172-31-39-126.ec2.internal:8042/node/containerlogs/container_1716564517486_0005_01_000001/livy\">Link</a></td><td>✔</td></tr></table>"
      ],
      "text/plain": [
       "<IPython.core.display.HTML object>"
      ]
     },
     "metadata": {},
     "output_type": "display_data"
    },
    {
     "data": {
      "application/vnd.jupyter.widget-view+json": {
       "model_id": "",
       "version_major": 2,
       "version_minor": 0
      },
      "text/plain": [
       "FloatProgress(value=0.0, bar_style='info', description='Progress:', layout=Layout(height='25px', width='50%'),…"
      ]
     },
     "metadata": {},
     "output_type": "display_data"
    },
    {
     "name": "stdout",
     "output_type": "stream",
     "text": [
      "SparkSession available as 'spark'.\n"
     ]
    },
    {
     "data": {
      "application/vnd.jupyter.widget-view+json": {
       "model_id": "",
       "version_major": 2,
       "version_minor": 0
      },
      "text/plain": [
       "FloatProgress(value=0.0, bar_style='info', description='Progress:', layout=Layout(height='25px', width='50%'),…"
      ]
     },
     "metadata": {},
     "output_type": "display_data"
    },
    {
     "name": "stdout",
     "output_type": "stream",
     "text": [
      "Collecting pandas==1.0.5\n",
      "  Using cached https://files.pythonhosted.org/packages/af/f3/683bf2547a3eaeec15b39cef86f61e921b3b187f250fcd2b5c5fb4386369/pandas-1.0.5-cp37-cp37m-manylinux1_x86_64.whl\n",
      "Requirement already satisfied: numpy>=1.13.3 in /usr/local/lib64/python3.7/site-packages (from pandas==1.0.5)\n",
      "Collecting python-dateutil>=2.6.1 (from pandas==1.0.5)\n",
      "  Using cached https://files.pythonhosted.org/packages/ec/57/56b9bcc3c9c6a792fcbaf139543cee77261f3651ca9da0c93f5c1221264b/python_dateutil-2.9.0.post0-py2.py3-none-any.whl\n",
      "Requirement already satisfied: pytz>=2017.2 in /usr/local/lib/python3.7/site-packages (from pandas==1.0.5)\n",
      "Requirement already satisfied: six>=1.5 in /usr/local/lib/python3.7/site-packages (from python-dateutil>=2.6.1->pandas==1.0.5)\n",
      "Installing collected packages: python-dateutil, pandas\n",
      "Successfully installed pandas-1.0.5 python-dateutil-2.9.0.post0\n",
      "\n",
      "Collecting scipy==1.4.1\n",
      "  Using cached https://files.pythonhosted.org/packages/dd/82/c1fe128f3526b128cfd185580ba40d01371c5d299fcf7f77968e22dfcc2e/scipy-1.4.1-cp37-cp37m-manylinux1_x86_64.whl\n",
      "Requirement already satisfied: numpy>=1.13.3 in /usr/local/lib64/python3.7/site-packages (from scipy==1.4.1)\n",
      "Installing collected packages: scipy\n",
      "Successfully installed scipy-1.4.1\n",
      "\n",
      "Collecting matplotlib==3.2.1\n",
      "  Using cached https://files.pythonhosted.org/packages/b2/c2/71fcf957710f3ba1f09088b35776a799ba7dd95f7c2b195ec800933b276b/matplotlib-3.2.1-cp37-cp37m-manylinux1_x86_64.whl\n",
      "Collecting pyparsing!=2.0.4,!=2.1.2,!=2.1.6,>=2.0.1 (from matplotlib==3.2.1)\n",
      "  Using cached https://files.pythonhosted.org/packages/9d/ea/6d76df31432a0e6fdf81681a895f009a4bb47b3c39036db3e1b528191d52/pyparsing-3.1.2-py3-none-any.whl\n",
      "Requirement already satisfied: python-dateutil>=2.1 in /mnt/tmp/1716575792226-0/lib/python3.7/site-packages (from matplotlib==3.2.1)\n",
      "Requirement already satisfied: numpy>=1.11 in /usr/local/lib64/python3.7/site-packages (from matplotlib==3.2.1)\n",
      "Collecting cycler>=0.10 (from matplotlib==3.2.1)\n",
      "  Using cached https://files.pythonhosted.org/packages/5c/f9/695d6bedebd747e5eb0fe8fad57b72fdf25411273a39791cde838d5a8f51/cycler-0.11.0-py3-none-any.whl\n",
      "Collecting kiwisolver>=1.0.1 (from matplotlib==3.2.1)\n",
      "  Using cached https://files.pythonhosted.org/packages/f9/77/e3046bf19720b22e3e0b7c12e28f6f2c0c18a213fb91a56cea640862270f/kiwisolver-1.4.5-cp37-cp37m-manylinux_2_5_x86_64.manylinux1_x86_64.whl\n",
      "Requirement already satisfied: six>=1.5 in /usr/local/lib/python3.7/site-packages (from python-dateutil>=2.1->matplotlib==3.2.1)\n",
      "Collecting typing-extensions; python_version < \"3.8\" (from kiwisolver>=1.0.1->matplotlib==3.2.1)\n",
      "  Using cached https://files.pythonhosted.org/packages/ec/6b/63cc3df74987c36fe26157ee12e09e8f9db4de771e0f3404263117e75b95/typing_extensions-4.7.1-py3-none-any.whl\n",
      "Installing collected packages: pyparsing, cycler, typing-extensions, kiwisolver, matplotlib\n",
      "Successfully installed cycler-0.11.0 kiwisolver-1.4.5 matplotlib-3.2.1 pyparsing-3.1.2 typing-extensions-4.7.1"
     ]
    }
   ],
   "source": [
    "sc.install_pypi_package(\"pandas==1.0.5\",\"https://pypi.org/simple\")\n",
    "sc.install_pypi_package(\"scipy==1.4.1\", \"https://pypi.org/simple\")\n",
    "sc.install_pypi_package(\"matplotlib==3.2.1\", \"https://pypi.org/simple\")"
   ]
  },
  {
   "cell_type": "markdown",
   "metadata": {},
   "source": [
    "## This section demonstrates that my Lambda function works. \n",
    "- However, we won't use this CSV for future analysis because I don't have access to the new database right now, and our data is insufficient for running large-scale computing tasks. I bootstrapped 100,000 data points locally and uploaded them to my S3 bucket. I will use that data for analysis."
   ]
  },
  {
   "cell_type": "code",
   "execution_count": 3,
   "metadata": {},
   "outputs": [
    {
     "data": {
      "application/vnd.jupyter.widget-view+json": {
       "model_id": "",
       "version_major": 2,
       "version_minor": 0
      },
      "text/plain": [
       "FloatProgress(value=0.0, bar_style='info', description='Progress:', layout=Layout(height='25px', width='50%'),…"
      ]
     },
     "metadata": {},
     "output_type": "display_data"
    }
   ],
   "source": [
    "data = spark.read.csv('s3://reibucket/results/query_results.csv', header=True)"
   ]
  },
  {
   "cell_type": "code",
   "execution_count": 4,
   "metadata": {},
   "outputs": [
    {
     "data": {
      "application/vnd.jupyter.widget-view+json": {
       "model_id": "",
       "version_major": 2,
       "version_minor": 0
      },
      "text/plain": [
       "FloatProgress(value=0.0, bar_style='info', description='Progress:', layout=Layout(height='25px', width='50%'),…"
      ]
     },
     "metadata": {},
     "output_type": "display_data"
    },
    {
     "name": "stdout",
     "output_type": "stream",
     "text": [
      "root\n",
      " |-- uid: string (nullable = true)\n",
      " |-- userName: string (nullable = true)\n",
      " |-- category: string (nullable = true)\n",
      " |-- sub_category: string (nullable = true)\n",
      " |-- product: string (nullable = true)\n",
      " |-- listing_amount: string (nullable = true)\n",
      " |-- counts: string (nullable = true)\n",
      " |-- total_bid_amount: string (nullable = true)"
     ]
    }
   ],
   "source": [
    "data.printSchema()"
   ]
  },
  {
   "cell_type": "code",
   "execution_count": 5,
   "metadata": {},
   "outputs": [
    {
     "data": {
      "application/vnd.jupyter.widget-view+json": {
       "model_id": "",
       "version_major": 2,
       "version_minor": 0
      },
      "text/plain": [
       "FloatProgress(value=0.0, bar_style='info', description='Progress:', layout=Layout(height='25px', width='50%'),…"
      ]
     },
     "metadata": {},
     "output_type": "display_data"
    },
    {
     "name": "stdout",
     "output_type": "stream",
     "text": [
      "+--------------------+---------------+--------+------------+--------------------+--------------+------+----------------+\n",
      "|                 uid|       userName|category|sub_category|             product|listing_amount|counts|total_bid_amount|\n",
      "+--------------------+---------------+--------+------------+--------------------+--------------+------+----------------+\n",
      "|25b7cbf3-2040-4bb...|    WillAppleID|     Art|    Fine Art|            ndjwidnf|           4.0|     1|             4.0|\n",
      "|25b7cbf3-2040-4bb...|    WillAppleID|     Art|    Fine Art|another attempt a...|          25.0|     1|            25.0|\n",
      "|119f3843-43af-403...|   anamariadem7|     Art|    Fine Art|       immersive art|        1000.0|     1|          1000.0|\n",
      "|0b26b2bd-3ac2-492...|   encoregoogle|     Art|    Fine Art|            ndjwidnf|           4.0|     1|             5.0|\n",
      "|7feffde3-6f0e-459...|     testuser99|     Art|    Fine Art|another attempt a...|          25.0|     1|            28.0|\n",
      "|119f3843-43af-403...|   anamariadem7|     Art|   Other Art|test over time bi...|         100.0|     2|           210.0|\n",
      "|119f3843-43af-403...|   anamariadem7|     Art|   Other Art|    test auction win|           1.0|     1|             1.0|\n",
      "|119f3843-43af-403...|   anamariadem7|     Art|   Other Art|            test win|         120.0|     1|           125.0|\n",
      "|892b9acf-0aa1-48c...|patricia-seller|     Art|   Other Art|            test win|         120.0|     1|           120.0|\n",
      "|59f0ba98-1451-49b...|       rares.bs|     Art|   Other Art|test over time bi...|         100.0|     1|           105.0|\n",
      "+--------------------+---------------+--------+------------+--------------------+--------------+------+----------------+\n",
      "only showing top 10 rows"
     ]
    }
   ],
   "source": [
    "data.show(10)"
   ]
  },
  {
   "cell_type": "markdown",
   "metadata": {},
   "source": [
    "## This is the csv I will actually use for the analysis: "
   ]
  },
  {
   "cell_type": "code",
   "execution_count": 6,
   "metadata": {},
   "outputs": [
    {
     "data": {
      "application/vnd.jupyter.widget-view+json": {
       "model_id": "",
       "version_major": 2,
       "version_minor": 0
      },
      "text/plain": [
       "FloatProgress(value=0.0, bar_style='info', description='Progress:', layout=Layout(height='25px', width='50%'),…"
      ]
     },
     "metadata": {},
     "output_type": "display_data"
    }
   ],
   "source": [
    "df = spark.read.csv(\"s3a://reibucket/Mock_data/fake_user_interaction.csv\", header=True) "
   ]
  },
  {
   "cell_type": "code",
   "execution_count": 7,
   "metadata": {},
   "outputs": [
    {
     "data": {
      "application/vnd.jupyter.widget-view+json": {
       "model_id": "",
       "version_major": 2,
       "version_minor": 0
      },
      "text/plain": [
       "FloatProgress(value=0.0, bar_style='info', description='Progress:', layout=Layout(height='25px', width='50%'),…"
      ]
     },
     "metadata": {},
     "output_type": "display_data"
    },
    {
     "name": "stdout",
     "output_type": "stream",
     "text": [
      "root\n",
      " |-- uid: string (nullable = true)\n",
      " |-- userName: string (nullable = true)\n",
      " |-- catagory: string (nullable = true)\n",
      " |-- sub_catagory: string (nullable = true)\n",
      " |-- product: string (nullable = true)\n",
      " |-- listing_amount: string (nullable = true)\n",
      " |-- counts: string (nullable = true)\n",
      " |-- total_bid_amount: string (nullable = true)"
     ]
    }
   ],
   "source": [
    "df.printSchema()"
   ]
  },
  {
   "cell_type": "code",
   "execution_count": 8,
   "metadata": {},
   "outputs": [
    {
     "data": {
      "application/vnd.jupyter.widget-view+json": {
       "model_id": "",
       "version_major": 2,
       "version_minor": 0
      },
      "text/plain": [
       "FloatProgress(value=0.0, bar_style='info', description='Progress:', layout=Layout(height='25px', width='50%'),…"
      ]
     },
     "metadata": {},
     "output_type": "display_data"
    },
    {
     "name": "stdout",
     "output_type": "stream",
     "text": [
      "+--------------------+-------------------+------------------+-----------------+--------------------+--------------+------+----------------+\n",
      "|                 uid|           userName|          catagory|     sub_catagory|             product|listing_amount|counts|total_bid_amount|\n",
      "+--------------------+-------------------+------------------+-----------------+--------------------+--------------+------+----------------+\n",
      "|7ec3c81f-4340-428...|        checkmeout_|Celebrity Signings|Movie Celebrities|Kevin Dillon Auto...|           1.0|     1|               1|\n",
      "|a469955b-a20d-4cb...|        DeadStockNH|Celebrity Signings|   TV Celebrities|Bakugo Autographe...|           1.0|     4|              29|\n",
      "|7c10f78f-ecfb-405...|             bankai|Celebrity Signings|   TV Celebrities|Bakugo Autographe...|           1.0|     4|              46|\n",
      "|c8d09ded-5f83-40d...|Modern_Vintage_NYC |Celebrity Signings|   TV Celebrities|Bakugo Autographe...|           1.0|     3|              26|\n",
      "|5dce8cf3-36fc-468...|         GameOfPops|Celebrity Signings|   TV Celebrities|Kevin Dillon Auto...|           1.0|     3|              12|\n",
      "+--------------------+-------------------+------------------+-----------------+--------------------+--------------+------+----------------+\n",
      "only showing top 5 rows"
     ]
    }
   ],
   "source": [
    "df.show(5)"
   ]
  },
  {
   "cell_type": "markdown",
   "metadata": {},
   "source": [
    "## Data cleaning: "
   ]
  },
  {
   "cell_type": "code",
   "execution_count": 9,
   "metadata": {},
   "outputs": [
    {
     "data": {
      "application/vnd.jupyter.widget-view+json": {
       "model_id": "",
       "version_major": 2,
       "version_minor": 0
      },
      "text/plain": [
       "FloatProgress(value=0.0, bar_style='info', description='Progress:', layout=Layout(height='25px', width='50%'),…"
      ]
     },
     "metadata": {},
     "output_type": "display_data"
    }
   ],
   "source": [
    "from pyspark.sql.functions import col, isnan, count, regexp_replace, lower, explode, when,row_number"
   ]
  },
  {
   "cell_type": "code",
   "execution_count": 10,
   "metadata": {},
   "outputs": [
    {
     "data": {
      "application/vnd.jupyter.widget-view+json": {
       "model_id": "",
       "version_major": 2,
       "version_minor": 0
      },
      "text/plain": [
       "FloatProgress(value=0.0, bar_style='info', description='Progress:', layout=Layout(height='25px', width='50%'),…"
      ]
     },
     "metadata": {},
     "output_type": "display_data"
    },
    {
     "name": "stdout",
     "output_type": "stream",
     "text": [
      "+---+--------+--------+------------+-------+--------------+------+----------------+\n",
      "|uid|userName|catagory|sub_catagory|product|listing_amount|counts|total_bid_amount|\n",
      "+---+--------+--------+------------+-------+--------------+------+----------------+\n",
      "|  0|       4|       4|           4|      8|             8|     8|               8|\n",
      "+---+--------+--------+------------+-------+--------------+------+----------------+"
     ]
    }
   ],
   "source": [
    "df.select([count(when(col(c).isNull() | isnan(c), c)).alias(c) for c in df.columns]).show()"
   ]
  },
  {
   "cell_type": "code",
   "execution_count": 11,
   "metadata": {},
   "outputs": [
    {
     "data": {
      "application/vnd.jupyter.widget-view+json": {
       "model_id": "",
       "version_major": 2,
       "version_minor": 0
      },
      "text/plain": [
       "FloatProgress(value=0.0, bar_style='info', description='Progress:', layout=Layout(height='25px', width='50%'),…"
      ]
     },
     "metadata": {},
     "output_type": "display_data"
    }
   ],
   "source": [
    "# Drop rows where userName is empty or null\n",
    "df = df.filter(df.userName.isNotNull() & (df.userName != ''))"
   ]
  },
  {
   "cell_type": "code",
   "execution_count": 12,
   "metadata": {},
   "outputs": [
    {
     "data": {
      "application/vnd.jupyter.widget-view+json": {
       "model_id": "",
       "version_major": 2,
       "version_minor": 0
      },
      "text/plain": [
       "FloatProgress(value=0.0, bar_style='info', description='Progress:', layout=Layout(height='25px', width='50%'),…"
      ]
     },
     "metadata": {},
     "output_type": "display_data"
    }
   ],
   "source": [
    "#fill null values in numerical columns with 0 and in string columns with 'Unknown'\n",
    "df = df.na.fill({\n",
    "    'listing_amount': 0, \n",
    "    'counts': 0, \n",
    "    'total_bid_amount': 0,\n",
    "    'userName': 'Unknown',\n",
    "    'catagory': 'Unknown', \n",
    "    'sub_catagory': 'Unknown', \n",
    "    'product': 'Unknown'\n",
    "})\n"
   ]
  },
  {
   "cell_type": "code",
   "execution_count": 13,
   "metadata": {},
   "outputs": [
    {
     "data": {
      "application/vnd.jupyter.widget-view+json": {
       "model_id": "",
       "version_major": 2,
       "version_minor": 0
      },
      "text/plain": [
       "FloatProgress(value=0.0, bar_style='info', description='Progress:', layout=Layout(height='25px', width='50%'),…"
      ]
     },
     "metadata": {},
     "output_type": "display_data"
    }
   ],
   "source": [
    "#Avoid cases where two products are actually the same, but some sellers have added non-word characters or capitalization to the title.\n",
    "\n",
    "df = df.withColumn(\"product\", lower(regexp_replace(col(\"product\"), \"[^a-zA-Z0-9\\\\s]\", \"\")))"
   ]
  },
  {
   "cell_type": "code",
   "execution_count": 14,
   "metadata": {},
   "outputs": [
    {
     "data": {
      "application/vnd.jupyter.widget-view+json": {
       "model_id": "",
       "version_major": 2,
       "version_minor": 0
      },
      "text/plain": [
       "FloatProgress(value=0.0, bar_style='info', description='Progress:', layout=Layout(height='25px', width='50%'),…"
      ]
     },
     "metadata": {},
     "output_type": "display_data"
    },
    {
     "name": "stdout",
     "output_type": "stream",
     "text": [
      "+--------------------+-------------------+------------------+-----------------+--------------------+--------------+------+----------------+\n",
      "|                 uid|           userName|          catagory|     sub_catagory|             product|listing_amount|counts|total_bid_amount|\n",
      "+--------------------+-------------------+------------------+-----------------+--------------------+--------------+------+----------------+\n",
      "|7ec3c81f-4340-428...|        checkmeout_|Celebrity Signings|Movie Celebrities|kevin dillon auto...|           1.0|     1|               1|\n",
      "|a469955b-a20d-4cb...|        DeadStockNH|Celebrity Signings|   TV Celebrities|bakugo autographe...|           1.0|     4|              29|\n",
      "|7c10f78f-ecfb-405...|             bankai|Celebrity Signings|   TV Celebrities|bakugo autographe...|           1.0|     4|              46|\n",
      "|c8d09ded-5f83-40d...|Modern_Vintage_NYC |Celebrity Signings|   TV Celebrities|bakugo autographe...|           1.0|     3|              26|\n",
      "|5dce8cf3-36fc-468...|         GameOfPops|Celebrity Signings|   TV Celebrities|kevin dillon auto...|           1.0|     3|              12|\n",
      "|a8580fd0-8e4b-4b9...|              steve|Celebrity Signings|   TV Celebrities|kevin dillon auto...|           1.0|     2|               6|\n",
      "|59821888-8adf-400...|         Jordar6845|Celebrity Signings|   TV Celebrities|bakugo autographe...|           1.0|     1|               3|\n",
      "|7d37789b-6766-483...|           OB_Toxic|Celebrity Signings|   TV Celebrities|bakugo autographe...|           1.0|     1|               9|\n",
      "|76772b72-e56e-43e...|         Griinchzzz|Celebrity Signings|   TV Celebrities|traci bingham aut...|           1.0|     1|               1|\n",
      "|7190e3d9-7329-4e1...|            y3d_ffx|Celebrity Signings|   TV Celebrities|bakugo autographe...|           1.0|     1|               2|\n",
      "|7803c004-319c-40f...|      funky_flip_lk|Celebrity Signings|   TV Celebrities|kevin dillon auto...|           1.0|     1|               3|\n",
      "|5dce8cf3-36fc-468...|         GameOfPops|  Collectible Toys|    Designer Toys|             unknown|             0|     0|               0|\n",
      "|cde10716-4856-4dc...|       Mr_Santos_TV|  Collectible Toys|    Designer Toys|             unknown|             0|     0|               0|\n",
      "|13b7bfc2-e5e4-4e8...|       masonking282|  Collectible Toys|    Designer Toys|             unknown|             0|     0|               0|\n",
      "|ba2b7c48-ab7d-463...|            sobrown|  Collectible Toys|    Designer Toys|             unknown|             0|     0|               0|\n",
      "|b5f69a73-5ad6-4af...|     Elcastillo1122|  Collectible Toys|            Funko|golden frieza 47 ...|           1.0|    37|           33528|\n",
      "|b5f69a73-5ad6-4af...|     Elcastillo1122|  Collectible Toys|            Funko|drew brees autogr...|           1.0|    27|            2757|\n",
      "|2395c8de-5a0a-42d...|          iLovePops|  Collectible Toys|            Funko|golden frieza 47 ...|           1.0|    27|           28485|\n",
      "|8f6fbe72-827d-498...|     FGS Autographs|  Collectible Toys|            Funko|thomas shelby  ci...|           1.0|    20|            3444|\n",
      "|a8580fd0-8e4b-4b9...|              steve|  Collectible Toys|            Funko|obiwan kenobi 393...|           1.0|    17|             768|\n",
      "+--------------------+-------------------+------------------+-----------------+--------------------+--------------+------+----------------+\n",
      "only showing top 20 rows"
     ]
    }
   ],
   "source": [
    "df.show()"
   ]
  },
  {
   "cell_type": "markdown",
   "metadata": {},
   "source": [
    "## Build the recommondation model: "
   ]
  },
  {
   "cell_type": "code",
   "execution_count": 15,
   "metadata": {},
   "outputs": [
    {
     "data": {
      "application/vnd.jupyter.widget-view+json": {
       "model_id": "",
       "version_major": 2,
       "version_minor": 0
      },
      "text/plain": [
       "FloatProgress(value=0.0, bar_style='info', description='Progress:', layout=Layout(height='25px', width='50%'),…"
      ]
     },
     "metadata": {},
     "output_type": "display_data"
    }
   ],
   "source": [
    "from pyspark.sql.window import Window\n",
    "from pyspark.ml.feature import StringIndexer\n",
    "from pyspark.ml.recommendation import ALS\n",
    "import pyspark.sql.functions as F"
   ]
  },
  {
   "cell_type": "code",
   "execution_count": 16,
   "metadata": {},
   "outputs": [
    {
     "data": {
      "application/vnd.jupyter.widget-view+json": {
       "model_id": "",
       "version_major": 2,
       "version_minor": 0
      },
      "text/plain": [
       "FloatProgress(value=0.0, bar_style='info', description='Progress:', layout=Layout(height='25px', width='50%'),…"
      ]
     },
     "metadata": {},
     "output_type": "display_data"
    },
    {
     "name": "stdout",
     "output_type": "stream",
     "text": [
      "+-------------+----------+\n",
      "|      product|total_bids|\n",
      "+-------------+----------+\n",
      "|       course|    1376.0|\n",
      "|         week|    1374.0|\n",
      "|     democrat|    1314.0|\n",
      "|       theory|    1309.0|\n",
      "|       change|    1279.0|\n",
      "|international|    1278.0|\n",
      "|      suggest|    1278.0|\n",
      "|          tax|    1277.0|\n",
      "|        think|    1274.0|\n",
      "|        owner|    1274.0|\n",
      "+-------------+----------+\n",
      "\n",
      "+--------+------------+---------+----------+----+\n",
      "|catagory|sub_catagory|  product|total_bids|rank|\n",
      "+--------+------------+---------+----------+----+\n",
      "|American|        sing| evidence|      17.0|   1|\n",
      "|American|        sing|     work|      15.0|   2|\n",
      "|Congress|        cold|      hot|      15.0|   1|\n",
      "|Congress|    describe|     step|      18.0|   1|\n",
      "|Congress|    discover|     drug|      17.0|   1|\n",
      "|Democrat|    approach| cultural|       8.0|   1|\n",
      "|Democrat|        face|     sell|      15.0|   1|\n",
      "|Democrat|      factor|     tell|      13.0|   1|\n",
      "|Democrat|      future|     note|       8.0|   1|\n",
      "|Democrat|         hit|      but|      11.0|   1|\n",
      "|Democrat|      itself|      mrs|      19.0|   1|\n",
      "|Democrat|      second|   change|       4.0|   1|\n",
      "|Democrat|     society|scientist|       7.0|   1|\n",
      "|Democrat|        song| activity|      16.0|   1|\n",
      "|       I|        bank|operation|      12.0|   1|\n",
      "|       I|        read|     born|      19.0|   1|\n",
      "|      Mr|       color|  exactly|       2.0|   1|\n",
      "|      Mr|    positive|knowledge|       1.0|   1|\n",
      "|     Mrs|        down|  mission|      14.0|   1|\n",
      "|     Mrs|        hand|    force|       6.0|   1|\n",
      "+--------+------------+---------+----------+----+\n",
      "only showing top 20 rows"
     ]
    }
   ],
   "source": [
    "# Calculate the top 10 most popular items overall\n",
    "top_10_popular_items = df.groupBy(\"product\").agg(F.sum(\"counts\").alias(\"total_bids\")).orderBy(F.desc(\"total_bids\")).limit(10)\n",
    "top_10_popular_items.show()\n",
    "\n",
    "# Calculate the top 10 most popular items by category and sub_category using window specification\n",
    "window_spec = Window.partitionBy(\"catagory\", \"sub_catagory\").orderBy(F.desc(\"total_bids\"))\n",
    "\n",
    "ranked_products = df.groupBy(\"catagory\", \"sub_catagory\", \"product\") \\\n",
    "    .agg(F.sum(\"counts\").alias(\"total_bids\")) \\\n",
    "    .withColumn(\"rank\", row_number().over(window_spec)) \\\n",
    "    .filter(col(\"rank\") <= 10)\n",
    "\n",
    "ranked_products.show()"
   ]
  },
  {
   "cell_type": "code",
   "execution_count": 17,
   "metadata": {},
   "outputs": [
    {
     "data": {
      "application/vnd.jupyter.widget-view+json": {
       "model_id": "",
       "version_major": 2,
       "version_minor": 0
      },
      "text/plain": [
       "FloatProgress(value=0.0, bar_style='info', description='Progress:', layout=Layout(height='25px', width='50%'),…"
      ]
     },
     "metadata": {},
     "output_type": "display_data"
    }
   ],
   "source": [
    "# Convert 'userName' and 'product' columns to numeric indices\n",
    "user_indexer = StringIndexer(inputCol=\"userName\", outputCol=\"userId\")\n",
    "product_indexer = StringIndexer(inputCol=\"product\", outputCol=\"itemId\")\n",
    "bidding_indexer = StringIndexer(inputCol=\"counts\", outputCol=\"bids\")\n",
    "\n",
    "df = user_indexer.fit(df).transform(df)\n",
    "df = product_indexer.fit(df).transform(df)\n",
    "df = bidding_indexer.fit(df).transform(df)"
   ]
  },
  {
   "cell_type": "code",
   "execution_count": 18,
   "metadata": {},
   "outputs": [
    {
     "data": {
      "application/vnd.jupyter.widget-view+json": {
       "model_id": "",
       "version_major": 2,
       "version_minor": 0
      },
      "text/plain": [
       "FloatProgress(value=0.0, bar_style='info', description='Progress:', layout=Layout(height='25px', width='50%'),…"
      ]
     },
     "metadata": {},
     "output_type": "display_data"
    }
   ],
   "source": [
    "# Prepare data for ALS model\n",
    "als_data = df.select(col(\"userId\").cast(\"int\"), col(\"itemId\").cast(\"int\"), col(\"bids\").cast(\"int\") )"
   ]
  },
  {
   "cell_type": "code",
   "execution_count": 19,
   "metadata": {},
   "outputs": [
    {
     "data": {
      "application/vnd.jupyter.widget-view+json": {
       "model_id": "",
       "version_major": 2,
       "version_minor": 0
      },
      "text/plain": [
       "FloatProgress(value=0.0, bar_style='info', description='Progress:', layout=Layout(height='25px', width='50%'),…"
      ]
     },
     "metadata": {},
     "output_type": "display_data"
    },
    {
     "name": "stdout",
     "output_type": "stream",
     "text": [
      "+------+--------------------+\n",
      "|userId|     recommendations|\n",
      "+------+--------------------+\n",
      "|    12|[[809, 1.3478367]...|\n",
      "|    65|[[807, 28.494137]...|\n",
      "|    76|[[1332, 9.840526]...|\n",
      "|    81|[[806, 27.868267]...|\n",
      "|   122|[[732, 26.951458]...|\n",
      "|   126|[[824, 20.987797]...|\n",
      "|   133|[[1332, 41.71848]...|\n",
      "|   140|[[305, 23.146338]...|\n",
      "|   148|[[965, 25.415472]...|\n",
      "|   177|[[1218, 29.734053...|\n",
      "|   192|[[771, 24.102068]...|\n",
      "|   209|[[615, 26.464588]...|\n",
      "|   243|[[826, 5.2413816]...|\n",
      "|   300|[[104, 17.73389],...|\n",
      "|   333|[[897, 33.251488]...|\n",
      "|   406|[[741, 27.485313]...|\n",
      "|   417|[[873, 25.0877], ...|\n",
      "|   444|[[1332, 39.677315...|\n",
      "|   481|[[430, 22.646383]...|\n",
      "|   496|[[162, 23.623482]...|\n",
      "+------+--------------------+\n",
      "only showing top 20 rows"
     ]
    }
   ],
   "source": [
    "\n",
    "# Train ALS model\n",
    "als = ALS(\n",
    "    maxIter=10,\n",
    "    regParam=0.1,\n",
    "    userCol=\"userId\",\n",
    "    itemCol=\"itemId\",\n",
    "    ratingCol=\"bids\",\n",
    "    coldStartStrategy=\"drop\"\n",
    ")\n",
    "model = als.fit(als_data)\n",
    "\n",
    "# Generate top 10 recommendations for each user\n",
    "user_recommendations = model.recommendForAllUsers(10)\n",
    "user_recommendations.show()"
   ]
  },
  {
   "cell_type": "markdown",
   "metadata": {},
   "source": [
    "## Evaluate my ALS collaborative filtering model and fine tuning the parameters"
   ]
  },
  {
   "cell_type": "code",
   "execution_count": 20,
   "metadata": {},
   "outputs": [
    {
     "data": {
      "application/vnd.jupyter.widget-view+json": {
       "model_id": "",
       "version_major": 2,
       "version_minor": 0
      },
      "text/plain": [
       "FloatProgress(value=0.0, bar_style='info', description='Progress:', layout=Layout(height='25px', width='50%'),…"
      ]
     },
     "metadata": {},
     "output_type": "display_data"
    }
   ],
   "source": [
    "from pyspark.ml.evaluation import RegressionEvaluator\n",
    "from pyspark.ml.tuning import CrossValidator, ParamGridBuilder"
   ]
  },
  {
   "cell_type": "code",
   "execution_count": 24,
   "metadata": {},
   "outputs": [
    {
     "data": {
      "application/vnd.jupyter.widget-view+json": {
       "model_id": "",
       "version_major": 2,
       "version_minor": 0
      },
      "text/plain": [
       "FloatProgress(value=0.0, bar_style='info', description='Progress:', layout=Layout(height='25px', width='50%'),…"
      ]
     },
     "metadata": {},
     "output_type": "display_data"
    }
   ],
   "source": [
    "# set up parameters and evaluator\n",
    "paramGrid = ParamGridBuilder() \\\n",
    "    .addGrid(als.rank, [10,20]) \\\n",
    "    .addGrid(als.maxIter, [10]) \\\n",
    "    .addGrid(als.regParam, [0.1]) \\\n",
    "    .build()\n"
   ]
  },
  {
   "cell_type": "code",
   "execution_count": 25,
   "metadata": {},
   "outputs": [
    {
     "data": {
      "application/vnd.jupyter.widget-view+json": {
       "model_id": "",
       "version_major": 2,
       "version_minor": 0
      },
      "text/plain": [
       "FloatProgress(value=0.0, bar_style='info', description='Progress:', layout=Layout(height='25px', width='50%'),…"
      ]
     },
     "metadata": {},
     "output_type": "display_data"
    }
   ],
   "source": [
    "evaluator = RegressionEvaluator(\n",
    "    metricName=\"rmse\",\n",
    "    labelCol=\"bids\",\n",
    "    predictionCol=\"prediction\"\n",
    ")\n",
    "\n",
    "crossval = CrossValidator(\n",
    "    estimator=als,\n",
    "    estimatorParamMaps=paramGrid,\n",
    "    evaluator=evaluator,\n",
    "    numFolds=2  # Number of folds for cross-validation\n",
    ")"
   ]
  },
  {
   "cell_type": "code",
   "execution_count": 26,
   "metadata": {},
   "outputs": [
    {
     "data": {
      "application/vnd.jupyter.widget-view+json": {
       "model_id": "",
       "version_major": 2,
       "version_minor": 0
      },
      "text/plain": [
       "FloatProgress(value=0.0, bar_style='info', description='Progress:', layout=Layout(height='25px', width='50%'),…"
      ]
     },
     "metadata": {},
     "output_type": "display_data"
    }
   ],
   "source": [
    "# Fit the ALS model to the training data\n",
    "cvModel = crossval.fit(df)\n",
    "\n",
    "# Extract the best model\n",
    "bestModel = cvModel.bestModel"
   ]
  },
  {
   "cell_type": "code",
   "execution_count": 28,
   "metadata": {},
   "outputs": [
    {
     "data": {
      "application/vnd.jupyter.widget-view+json": {
       "model_id": "",
       "version_major": 2,
       "version_minor": 0
      },
      "text/plain": [
       "FloatProgress(value=0.0, bar_style='info', description='Progress:', layout=Layout(height='25px', width='50%'),…"
      ]
     },
     "metadata": {},
     "output_type": "display_data"
    },
    {
     "name": "stdout",
     "output_type": "stream",
     "text": [
      "True True"
     ]
    }
   ],
   "source": [
    "# split into train/test data\n",
    "train, test = df.randomSplit([0.8, 0.2], seed=0)\n",
    "\n",
    "# Persist data in memory to speed up I/O during training/testing\n",
    "train.persist()\n",
    "test.persist()\n",
    "\n",
    "# confirm they're cached\n",
    "print(train.is_cached, test.is_cached)"
   ]
  },
  {
   "cell_type": "code",
   "execution_count": 29,
   "metadata": {},
   "outputs": [
    {
     "data": {
      "application/vnd.jupyter.widget-view+json": {
       "model_id": "",
       "version_major": 2,
       "version_minor": 0
      },
      "text/plain": [
       "FloatProgress(value=0.0, bar_style='info', description='Progress:', layout=Layout(height='25px', width='50%'),…"
      ]
     },
     "metadata": {},
     "output_type": "display_data"
    },
    {
     "name": "stdout",
     "output_type": "stream",
     "text": [
      "Root-mean-square error on test data = 0.22392845051835258"
     ]
    }
   ],
   "source": [
    "# Generate predictions on the test set\n",
    "predictions = bestModel.transform(test)\n",
    "\n",
    "# Evaluate the model\n",
    "rmse = evaluator.evaluate(predictions)\n",
    "print(\"Root-mean-square error on test data = \" + str(rmse))"
   ]
  },
  {
   "cell_type": "code",
   "execution_count": 30,
   "metadata": {},
   "outputs": [
    {
     "data": {
      "application/vnd.jupyter.widget-view+json": {
       "model_id": "",
       "version_major": 2,
       "version_minor": 0
      },
      "text/plain": [
       "FloatProgress(value=0.0, bar_style='info', description='Progress:', layout=Layout(height='25px', width='50%'),…"
      ]
     },
     "metadata": {},
     "output_type": "display_data"
    },
    {
     "name": "stdout",
     "output_type": "stream",
     "text": [
      "Best Model Parameters:\n",
      " Rank: 20\n",
      " MaxIter: 10\n",
      " RegParam: 0.1"
     ]
    }
   ],
   "source": [
    "print(\"Best Model Parameters:\")\n",
    "print(\" Rank:\", bestModel.rank)\n",
    "print(\" MaxIter:\", bestModel._java_obj.parent().getMaxIter())\n",
    "print(\" RegParam:\", bestModel._java_obj.parent().getRegParam())\n"
   ]
  },
  {
   "cell_type": "markdown",
   "metadata": {},
   "source": [
    "- An RMSE of 0.2239 suggests that, on average, my model's predictions are about 0.2239 units away from the actual data points in terms of the bids rating scale. However, this is a fake dataset, so I will need to fine tuning it more after words. "
   ]
  },
  {
   "cell_type": "markdown",
   "metadata": {},
   "source": [
    "## Show the final recommendations with original user names and product names"
   ]
  },
  {
   "cell_type": "code",
   "execution_count": 33,
   "metadata": {},
   "outputs": [
    {
     "data": {
      "application/vnd.jupyter.widget-view+json": {
       "model_id": "",
       "version_major": 2,
       "version_minor": 0
      },
      "text/plain": [
       "FloatProgress(value=0.0, bar_style='info', description='Progress:', layout=Layout(height='25px', width='50%'),…"
      ]
     },
     "metadata": {},
     "output_type": "display_data"
    },
    {
     "name": "stdout",
     "output_type": "stream",
     "text": [
      "+------+--------------------+\n",
      "|userId|     recommendations|\n",
      "+------+--------------------+\n",
      "|    12|[[462, 2.7344208]...|\n",
      "|    65|[[833, 24.765823]...|\n",
      "|    76|[[1332, 11.110581...|\n",
      "|    81|[[624, 22.323032]...|\n",
      "|   122|[[128, 24.945017]...|\n",
      "|   126|[[1125, 23.439484...|\n",
      "|   133|[[705, 18.822424]...|\n",
      "|   140|[[399, 19.345722]...|\n",
      "|   148|[[925, 19.97949],...|\n",
      "|   177|[[957, 20.058804]...|\n",
      "|   192|[[653, 17.96259],...|\n",
      "|   209|[[519, 19.876812]...|\n",
      "|   243|[[1332, 4.072618]...|\n",
      "|   300|[[768, 16.290277]...|\n",
      "|   333|[[795, 21.36091],...|\n",
      "|   406|[[663, 17.360752]...|\n",
      "|   417|[[850, 17.768967]...|\n",
      "|   444|[[354, 18.322456]...|\n",
      "|   481|[[965, 17.488764]...|\n",
      "|   496|[[301, 19.924335]...|\n",
      "+------+--------------------+\n",
      "only showing top 20 rows"
     ]
    }
   ],
   "source": [
    "# Generate top 10 recommendations for each user\n",
    "user_recommendations = bestModel.recommendForAllUsers(10)\n",
    "user_recommendations.show()"
   ]
  },
  {
   "cell_type": "code",
   "execution_count": 36,
   "metadata": {},
   "outputs": [
    {
     "data": {
      "application/vnd.jupyter.widget-view+json": {
       "model_id": "",
       "version_major": 2,
       "version_minor": 0
      },
      "text/plain": [
       "FloatProgress(value=0.0, bar_style='info', description='Progress:', layout=Layout(height='25px', width='50%'),…"
      ]
     },
     "metadata": {},
     "output_type": "display_data"
    },
    {
     "name": "stdout",
     "output_type": "stream",
     "text": [
      "+---------+-------------+--------------+\n",
      "| userName|      product|predicted_bids|\n",
      "+---------+-------------+--------------+\n",
      "|      geo|         girl|     2.7344208|\n",
      "|      geo|        focus|     2.6825073|\n",
      "|      geo|        cover|     2.6204603|\n",
      "|      geo|        visit|     2.6065812|\n",
      "|      geo|       mother|     2.5866444|\n",
      "|      geo|     pressure|     2.5358653|\n",
      "|      geo|        happy|     2.5160544|\n",
      "|      geo|           on|     2.4734707|\n",
      "|      geo|      foreign|     2.3637054|\n",
      "|      geo|       others|     2.3560643|\n",
      "|uwilliams|      science|     24.765823|\n",
      "|uwilliams|        crime|     24.364996|\n",
      "|uwilliams|          but|     23.212934|\n",
      "|uwilliams|          add|     22.127392|\n",
      "|uwilliams|         game|     21.541166|\n",
      "|uwilliams|         also|     21.478506|\n",
      "|uwilliams|          you|     21.406864|\n",
      "|uwilliams|         loss|     21.377327|\n",
      "|uwilliams|international|     20.521315|\n",
      "|uwilliams|      program|     20.402838|\n",
      "+---------+-------------+--------------+\n",
      "only showing top 20 rows"
     ]
    }
   ],
   "source": [
    "# Create a DataFrame for userId to userName mapping\n",
    "user_id_mapping = df.select(\"userId\", \"userName\").distinct()\n",
    "\n",
    "# Create a DataFrame for itemId to product mapping\n",
    "item_id_mapping = df.select(\"itemId\", \"product\").distinct()\n",
    "\n",
    "# Explode the recommendations\n",
    "exploded_recommendations = user_recommendations.withColumn(\"recommendation\", explode(\"recommendations\"))\n",
    "\n",
    "# Select userId and the recommended itemId and rating\n",
    "exploded_recommendations = exploded_recommendations.select(\"userId\", col(\"recommendation.itemId\").alias(\"itemId\"), col(\"recommendation.rating\").alias(\"predicted_bids\"))\n",
    "\n",
    "# Join with user_id_mapping to get userName\n",
    "recommendations_with_user = exploded_recommendations.join(user_id_mapping, on=\"userId\")\n",
    "\n",
    "# Join with item_id_mapping to get product\n",
    "recommendations_with_user_product = recommendations_with_user.join(item_id_mapping, on=\"itemId\")\n",
    "\n",
    "# Select relevant columns\n",
    "recommendations_final = recommendations_with_user_product.select(\"userName\", \"product\", \"predicted_bids\")\n",
    "\n",
    "# Show the final recommendations with original user names and product names\n",
    "recommendations_final.show()"
   ]
  },
  {
   "cell_type": "code",
   "execution_count": 41,
   "metadata": {},
   "outputs": [
    {
     "data": {
      "application/vnd.jupyter.widget-view+json": {
       "model_id": "",
       "version_major": 2,
       "version_minor": 0
      },
      "text/plain": [
       "FloatProgress(value=0.0, bar_style='info', description='Progress:', layout=Layout(height='25px', width='50%'),…"
      ]
     },
     "metadata": {},
     "output_type": "display_data"
    },
    {
     "name": "stdout",
     "output_type": "stream",
     "text": [
      "+-------------------+--------------------+------------------+-----------------+--------------------+--------------+------+----------------+------+------+----+------------------+\n",
      "|           userName|                 uid|          catagory|     sub_catagory|             product|listing_amount|counts|total_bid_amount|userId|itemId|bids|total_counts_users|\n",
      "+-------------------+--------------------+------------------+-----------------+--------------------+--------------+------+----------------+------+------+----+------------------+\n",
      "|        checkmeout_|7ec3c81f-4340-428...|Celebrity Signings|Movie Celebrities|kevin dillon auto...|           1.0|     1|               1| 242.0|1505.0| 0.0|              13.0|\n",
      "|        DeadStockNH|a469955b-a20d-4cb...|Celebrity Signings|   TV Celebrities|bakugo autographe...|           1.0|     4|              29|  23.0|1188.0| 3.0|              66.0|\n",
      "|             bankai|7c10f78f-ecfb-405...|Celebrity Signings|   TV Celebrities|bakugo autographe...|           1.0|     4|              46|  32.0|1188.0| 3.0|              65.0|\n",
      "|Modern_Vintage_NYC |c8d09ded-5f83-40d...|Celebrity Signings|   TV Celebrities|bakugo autographe...|           1.0|     3|              26|  14.0|1188.0| 2.0|              72.0|\n",
      "|         GameOfPops|5dce8cf3-36fc-468...|Celebrity Signings|   TV Celebrities|kevin dillon auto...|           1.0|     3|              12|   0.0|1364.0| 2.0|             413.0|\n",
      "|              steve|a8580fd0-8e4b-4b9...|Celebrity Signings|   TV Celebrities|kevin dillon auto...|           1.0|     2|               6|   4.0|1364.0| 1.0|             149.0|\n",
      "|         Jordar6845|59821888-8adf-400...|Celebrity Signings|   TV Celebrities|bakugo autographe...|           1.0|     1|               3|   6.0|1188.0| 0.0|             112.0|\n",
      "|           OB_Toxic|7d37789b-6766-483...|Celebrity Signings|   TV Celebrities|bakugo autographe...|           1.0|     1|               9|5563.0|1188.0| 0.0|               2.0|\n",
      "|         Griinchzzz|76772b72-e56e-43e...|Celebrity Signings|   TV Celebrities|traci bingham aut...|           1.0|     1|               1|  93.0|1548.0| 0.0|              24.0|\n",
      "|            y3d_ffx|7190e3d9-7329-4e1...|Celebrity Signings|   TV Celebrities|bakugo autographe...|           1.0|     1|               2|  52.0|1188.0| 0.0|              66.0|\n",
      "|      funky_flip_lk|7803c004-319c-40f...|Celebrity Signings|   TV Celebrities|kevin dillon auto...|           1.0|     1|               3|   9.0|1364.0| 0.0|              94.0|\n",
      "|         GameOfPops|5dce8cf3-36fc-468...|  Collectible Toys|    Designer Toys|             unknown|             0|     0|               0|   0.0|1332.0|19.0|             413.0|\n",
      "|       Mr_Santos_TV|cde10716-4856-4dc...|  Collectible Toys|    Designer Toys|             unknown|             0|     0|               0| 200.0|1332.0|19.0|              40.0|\n",
      "|       masonking282|13b7bfc2-e5e4-4e8...|  Collectible Toys|    Designer Toys|             unknown|             0|     0|               0| 143.0|1332.0|19.0|              21.0|\n",
      "|            sobrown|ba2b7c48-ab7d-463...|  Collectible Toys|    Designer Toys|             unknown|             0|     0|               0|2497.0|1332.0|19.0|               3.0|\n",
      "|     Elcastillo1122|b5f69a73-5ad6-4af...|  Collectible Toys|            Funko|golden frieza 47 ...|           1.0|    37|           33528|  30.0|1125.0|22.0|             202.0|\n",
      "|     Elcastillo1122|b5f69a73-5ad6-4af...|  Collectible Toys|            Funko|drew brees autogr...|           1.0|    27|            2757|  30.0|1236.0|21.0|             202.0|\n",
      "|          iLovePops|2395c8de-5a0a-42d...|  Collectible Toys|            Funko|golden frieza 47 ...|           1.0|    27|           28485|  20.0|1125.0|21.0|              91.0|\n",
      "|     FGS Autographs|8f6fbe72-827d-498...|  Collectible Toys|            Funko|thomas shelby  ci...|           1.0|    20|            3444|2716.0|1108.0|20.0|              38.0|\n",
      "|              steve|a8580fd0-8e4b-4b9...|  Collectible Toys|            Funko|obiwan kenobi 393...|           1.0|    17|             768|   4.0|1012.0| 5.0|             149.0|\n",
      "+-------------------+--------------------+------------------+-----------------+--------------------+--------------+------+----------------+------+------+----+------------------+\n",
      "only showing top 20 rows"
     ]
    }
   ],
   "source": [
    "# Calculate the sum of counts for each user\n",
    "user_counts = df.groupBy(\"userName\").agg(F.sum(\"counts\").alias(\"total_counts_users\"))\n",
    "# Join the sum of counts back to the original DataFrame\n",
    "df_with_counts = df.join(user_counts, \"userName\", \"inner\")\n",
    "\n",
    "# Show the resulting DataFrame\n",
    "df_with_counts.show()"
   ]
  },
  {
   "cell_type": "code",
   "execution_count": 42,
   "metadata": {},
   "outputs": [
    {
     "data": {
      "application/vnd.jupyter.widget-view+json": {
       "model_id": "",
       "version_major": 2,
       "version_minor": 0
      },
      "text/plain": [
       "FloatProgress(value=0.0, bar_style='info', description='Progress:', layout=Layout(height='25px', width='50%'),…"
      ]
     },
     "metadata": {},
     "output_type": "display_data"
    },
    {
     "name": "stdout",
     "output_type": "stream",
     "text": [
      "root\n",
      " |-- userName: string (nullable = false)\n",
      " |-- uid: string (nullable = true)\n",
      " |-- catagory: string (nullable = false)\n",
      " |-- sub_catagory: string (nullable = false)\n",
      " |-- product: string (nullable = false)\n",
      " |-- listing_amount: string (nullable = false)\n",
      " |-- counts: string (nullable = false)\n",
      " |-- total_bid_amount: string (nullable = false)\n",
      " |-- userId: double (nullable = false)\n",
      " |-- itemId: double (nullable = false)\n",
      " |-- bids: double (nullable = false)\n",
      " |-- total_counts_users: double (nullable = true)"
     ]
    }
   ],
   "source": [
    "df_with_counts.printSchema()"
   ]
  },
  {
   "cell_type": "markdown",
   "metadata": {},
   "source": [
    "## Combining popularity model + collaborative filtering \n",
    "- Here we arbitrarily choose (\"total_counts_users\") == 0 to avoid the code start problem but this parameter can be further adjusted. "
   ]
  },
  {
   "cell_type": "code",
   "execution_count": 43,
   "metadata": {},
   "outputs": [
    {
     "data": {
      "application/vnd.jupyter.widget-view+json": {
       "model_id": "",
       "version_major": 2,
       "version_minor": 0
      },
      "text/plain": [
       "FloatProgress(value=0.0, bar_style='info', description='Progress:', layout=Layout(height='25px', width='50%'),…"
      ]
     },
     "metadata": {},
     "output_type": "display_data"
    }
   ],
   "source": [
    "from pyspark.sql.functions import col, broadcast\n",
    "\n",
    "def recommend_items(user_data, top_10_popular, top_10_category_subcategory, recommendations_final):\n",
    "    # Filter users with more than zero counts and known categories\n",
    "    condition_users = user_data.filter(\n",
    "        (col(\"total_counts_users\") == 0) &\n",
    "        ((col(\"catagory\") != 'unknown') | (col(\"sub_catagory\") != 'unknown'))\n",
    "    )\n",
    "\n",
    "    # Join with top categories/subcategories and rename the 'product' column\n",
    "    recommendations_category = condition_users.join(\n",
    "        broadcast(top_10_category_subcategory),\n",
    "        (condition_users[\"catagory\"] == top_10_category_subcategory[\"catagory\"]) &\n",
    "        (condition_users[\"sub_catagory\"] == top_10_category_subcategory[\"sub_catagory\"]),\n",
    "        \"left\"\n",
    "    ).select(condition_users[\"userName\"], top_10_category_subcategory[\"product\"].alias(\"recommended_product\"), \"total_bids\")\n",
    "\n",
    "    # Users with zero or unknown category/subcategory get popular items\n",
    "    default_users = user_data.filter(\n",
    "        (col(\"total_counts_users\") == 0) |\n",
    "        ((col(\"catagory\") == 'unknown') & (col(\"sub_catagory\") == 'unknown'))\n",
    "    )\n",
    "    recommendations_default = default_users.crossJoin(broadcast(top_10_popular)).select(\n",
    "        \"userName\", top_10_popular[\"product\"].alias(\"popular_product\"), \"total_bids\"\n",
    "    )\n",
    "\n",
    "    # Users needing predictions from the final model\n",
    "    model_users = user_data.filter(col(\"total_counts_users\") > 0)\n",
    "    recommendations_model = model_users.join(\n",
    "        recommendations_final, \"userName\"\n",
    "    ).select(\"userName\", recommendations_final[\"product\"].alias(\"model_product\"), \"predicted_bids\")\n",
    "\n",
    "    # Combine all recommendations\n",
    "    # Here you may need to standardize column names before union, or handle it differently based on your needs.\n",
    "    final_recommendations = recommendations_category.withColumnRenamed(\"recommended_product\", \"product\") \\\n",
    "        .union(recommendations_default.withColumnRenamed(\"popular_product\", \"product\")) \\\n",
    "        .union(recommendations_model.withColumnRenamed(\"model_product\", \"product\"))\n",
    "\n",
    "    return final_recommendations\n"
   ]
  },
  {
   "cell_type": "code",
   "execution_count": 44,
   "metadata": {},
   "outputs": [
    {
     "data": {
      "application/vnd.jupyter.widget-view+json": {
       "model_id": "",
       "version_major": 2,
       "version_minor": 0
      },
      "text/plain": [
       "FloatProgress(value=0.0, bar_style='info', description='Progress:', layout=Layout(height='25px', width='50%'),…"
      ]
     },
     "metadata": {},
     "output_type": "display_data"
    },
    {
     "name": "stdout",
     "output_type": "stream",
     "text": [
      "+--------+--------+------------------+\n",
      "|userName| product|        total_bids|\n",
      "+--------+--------+------------------+\n",
      "| vmiller|      in|19.979490280151367|\n",
      "| vmiller| morning|19.979490280151367|\n",
      "| vmiller|    save|19.979490280151367|\n",
      "| vmiller|  relate|19.979490280151367|\n",
      "| vmiller|    poor|19.979490280151367|\n",
      "| vmiller| college|19.979490280151367|\n",
      "| vmiller|  relate|19.979490280151367|\n",
      "| vmiller|   clear|19.979490280151367|\n",
      "| vmiller|   every|19.979490280151367|\n",
      "| vmiller|building|19.979490280151367|\n",
      "| vmiller|  appear|19.979490280151367|\n",
      "| vmiller|    fall|19.979490280151367|\n",
      "| vmiller|    none|19.979490280151367|\n",
      "| vmiller|     kid|19.979490280151367|\n",
      "| vmiller|      in|18.377710342407227|\n",
      "| vmiller| morning|18.377710342407227|\n",
      "| vmiller|    save|18.377710342407227|\n",
      "| vmiller|  relate|18.377710342407227|\n",
      "| vmiller|    poor|18.377710342407227|\n",
      "| vmiller| college|18.377710342407227|\n",
      "+--------+--------+------------------+\n",
      "only showing top 20 rows"
     ]
    }
   ],
   "source": [
    "# Apply the function (example usage)\n",
    "final_recommendations_df = recommend_items(df_with_counts, top_10_popular_items, ranked_products, recommendations_final)\n",
    "final_recommendations_df.show()"
   ]
  },
  {
   "cell_type": "markdown",
   "metadata": {},
   "source": [
    "## Sample recommendations for a user "
   ]
  },
  {
   "cell_type": "code",
   "execution_count": 45,
   "metadata": {},
   "outputs": [
    {
     "data": {
      "application/vnd.jupyter.widget-view+json": {
       "model_id": "",
       "version_major": 2,
       "version_minor": 0
      },
      "text/plain": [
       "FloatProgress(value=0.0, bar_style='info', description='Progress:', layout=Layout(height='25px', width='50%'),…"
      ]
     },
     "metadata": {},
     "output_type": "display_data"
    },
    {
     "name": "stdout",
     "output_type": "stream",
     "text": [
      "+--------+--------------------+------------------+\n",
      "|userName|             product|        total_bids|\n",
      "+--------+--------------------+------------------+\n",
      "|   steve|kevin dillon auto...| 8.160733222961426|\n",
      "|   steve|kevin dillon auto...| 7.054625034332275|\n",
      "|   steve|kevin dillon auto...|6.7168354988098145|\n",
      "|   steve|kevin dillon auto...| 6.084837436676025|\n",
      "|   steve|kevin dillon auto...| 5.918649673461914|\n",
      "|   steve|kevin dillon auto...| 5.887824058532715|\n",
      "|   steve|kevin dillon auto...| 5.811747074127197|\n",
      "|   steve|kevin dillon auto...| 5.776914596557617|\n",
      "|   steve|kevin dillon auto...| 5.713441848754883|\n",
      "|   steve|kevin dillon auto...|  5.63450288772583|\n",
      "+--------+--------------------+------------------+"
     ]
    }
   ],
   "source": [
    "def get_top_recommendations_for_user(recommendations_df, user_name, top_n=10):\n",
    "    \"\"\"\n",
    "    Fetch top N recommendations for a specific user from the DataFrame of recommendations.\n",
    "\n",
    "    :param recommendations_df: DataFrame containing recommendations for all users.\n",
    "    :param user_name: String, the userName for whom recommendations are to be fetched.\n",
    "    :param top_n: Integer, number of top recommendations to fetch.\n",
    "    :return: DataFrame containing top N recommendations specifically for the provided userName.\n",
    "    \"\"\"\n",
    "    # Filter the DataFrame for the specific user\n",
    "    user_recommendations = recommendations_df.filter(col(\"userName\") == user_name)\n",
    "    \n",
    "    # You might already have limited recommendations or need to order and limit them based on some criteria\n",
    "    # For example, if you have a score or bids column that dictates the strength of the recommendation:\n",
    "    # user_recommendations = user_recommendations.orderBy(col(\"some_score_column\").desc()).limit(top_n)\n",
    "\n",
    "    return user_recommendations.limit(top_n)\n",
    "\n",
    "# Example usage:\n",
    "specific_user_recommendations = get_top_recommendations_for_user(final_recommendations_df, \"steve\", top_n=10)\n",
    "\n",
    "# Show the recommendations for \"Steve\"\n",
    "specific_user_recommendations.show()\n"
   ]
  },
  {
   "cell_type": "markdown",
   "metadata": {},
   "source": [
    "- the result doesn't looks realy idea because it's purely bootstrapped"
   ]
  },
  {
   "cell_type": "markdown",
   "metadata": {},
   "source": [
    "## Convert the final prediction into a json file and save it into my S3 for later access "
   ]
  },
  {
   "cell_type": "code",
   "execution_count": 46,
   "metadata": {},
   "outputs": [
    {
     "data": {
      "application/vnd.jupyter.widget-view+json": {
       "model_id": "",
       "version_major": 2,
       "version_minor": 0
      },
      "text/plain": [
       "FloatProgress(value=0.0, bar_style='info', description='Progress:', layout=Layout(height='25px', width='50%'),…"
      ]
     },
     "metadata": {},
     "output_type": "display_data"
    },
    {
     "name": "stdout",
     "output_type": "stream",
     "text": [
      "+--------------+-------------------------------------------------------------------------------------------------------------------------------------------------------------------------------------------------------------------------------------------------------------------------------------------------------------------------------------------------------------------------------------------------------------------------------------------------------------------------------------------------------------------------------------------------------------------------------------------------------------------------------------------------------------------------------------------------------------------------------------------------------------------------------------------------------------------------------------------------------------------------------------------------------------------------------------------------------------------------------------------------------------------------------------------------------------------------------------------------------------------------------------------------------------------------------------------------------------------------------------------------------------------------------------------------------------------------------------------------------------------------------------------------------------------------------------------------------------------------------------------------------------------------------------------------------------------------------------------------------------------------------------------------------------------------------------------------------------------------------------------------------------------------------------------------------------------------------------------------------------------------------------------------------------------------------------------------------------------------------------------------------------------------------------------------------------------------------------------------------------------------------------------------------------------------------------------------------------------------------------------------------------------------------------------------------------------------------------------------------------------------------------------------------------------------------------------------------------------------------------------------------------------------------------------------------------------------------------------------------------------------------------------------------------------------------------------------------------------------------------------------------------------------------------------------------------------------------------------------------------------------------------------------------------------------------------------------------------------------------------------------------------------------------------------------------------------------------------------------------------------------------------------------------------------------------------------------------------------------------------------------------------------------------------------------------------------------------------------------------------------------------------------------------------------------------------------------------------------------------------------------------------------------------------------------------------------------------------------------------------------------------------------------------------------------------------------------------------------------------------------------------------------------------------------------------------------------------------------------------------------------------------------------------------------------------------------------------------------------------------------------------------------------------------------------------------------------------------------------------------------------------------------------------------------------------------------------------------------------------------------------------------------------------------------------------------------------------------------------------------------------------------------------------------------------------------------------------------------------------------------------------------------------------------------------------------------------------------------------------------------------------------------------------------------------------------------------------------------------------------------------------------------------------------------------------------------------------------------------------------------------------------------------------------------------------------------------------------------------------------------------------------------------------------------------------------------------------------------------------------------------------------------------------------------------------------------------------------------------------------------------------------------------------------------------------------------------------------------------------------------------------------------------------------------------------------------------------------------------------------------------------------------------------------------------------------------------------------------------------------------------------------------------------------------------------------------------------------------------------------------------------------------------------------------------------------------------------------------------------------------------------------------------------------------------------------------------------------------------------------------------------------------------------------------------------------------------------------------------------------------------------------------------------------------------------------------------------------------------------------------------------------------------------------------------------------------------------------------------------------------------------------------------------------------------------------------------------------------------------------------------------------------------------------------------------------------------------------------------------------------------------------------------------------------------------------------------------------------------------------------------------------------------------------------------------------------------------------------------------------------------------------------------------------------------------------------------------------------------------------------------------------------------------------------------------------------------------------------------------------------------------------------------------------------------------------------------------------------------------------------------------------------------------------------------------------------------------------------------------------------------------------------------------------------------------------------------------------------------------------------------------------------------------------------------------------------------------------------------------------------------------------------------------------------------------------------------------------------------------------------------------------------------------------------------------------------------------------------------------------------------------------------------------------------------------------------------------------------------------------------------------------------------------------------------------------------------------------------------------------------------------------------------------------------------------------------------------------------------------------------------------------------------------------------------------------------------------------------------------------------------------------------------------------------------------------------------------------------------------------------------------------------------------------------------------------------------------------------------------------------------------------------------------------------------------------------------------------------------------------------------------------------------------------------------------+\n",
      "|userName      |recommendations                                                                                                                                                                                                                                                                                                                                                                                                                                                                                                                                                                                                                                                                                                                                                                                                                                                                                                                                                                                                                                                                                                                                                                                                                                                                                                                                                                                                                                                                                                                                                                                                                                                                                                                                                                                                                                                                                                                                                                                                                                                                                                                                                                                                                                                                                                                                                                                                                                                                                                                                                                                                                                                                                                                                                                                                                                                                                                                                                                                                                                                                                                                                                                                                                                                                                                                                                                                                                                                                                                                                                                                                                                                                                                                                                                                                                                                                                                                                                                                                                                                                                                                                                                                                                                                                                                                                                                                                                                                                                                                                                                                                                                                                                                                                                                                                                                                                                                                                                                                                                                                                                                                                                                                                                                                                                                                                                                                                                                                                                                                                                                                                                                                                                                                                                                                                                                                                                                                                                                                                                                                                                                                                                                                                                                                                                                                                                                                                                                                                                                                                                                                                                                                                                                                                                                                                                                                                                                                                                                                                                                                                                                                                                                                                                                                                                                                                                                                                                                                                                                                                                                                                                                                                                                                                                                                                                                                                                                                                                                                                                                                                                                                                                                                                                                                                                                                                                                                                                                                                                                                                                                                                                                                                                                                                                                                        |\n",
      "+--------------+-------------------------------------------------------------------------------------------------------------------------------------------------------------------------------------------------------------------------------------------------------------------------------------------------------------------------------------------------------------------------------------------------------------------------------------------------------------------------------------------------------------------------------------------------------------------------------------------------------------------------------------------------------------------------------------------------------------------------------------------------------------------------------------------------------------------------------------------------------------------------------------------------------------------------------------------------------------------------------------------------------------------------------------------------------------------------------------------------------------------------------------------------------------------------------------------------------------------------------------------------------------------------------------------------------------------------------------------------------------------------------------------------------------------------------------------------------------------------------------------------------------------------------------------------------------------------------------------------------------------------------------------------------------------------------------------------------------------------------------------------------------------------------------------------------------------------------------------------------------------------------------------------------------------------------------------------------------------------------------------------------------------------------------------------------------------------------------------------------------------------------------------------------------------------------------------------------------------------------------------------------------------------------------------------------------------------------------------------------------------------------------------------------------------------------------------------------------------------------------------------------------------------------------------------------------------------------------------------------------------------------------------------------------------------------------------------------------------------------------------------------------------------------------------------------------------------------------------------------------------------------------------------------------------------------------------------------------------------------------------------------------------------------------------------------------------------------------------------------------------------------------------------------------------------------------------------------------------------------------------------------------------------------------------------------------------------------------------------------------------------------------------------------------------------------------------------------------------------------------------------------------------------------------------------------------------------------------------------------------------------------------------------------------------------------------------------------------------------------------------------------------------------------------------------------------------------------------------------------------------------------------------------------------------------------------------------------------------------------------------------------------------------------------------------------------------------------------------------------------------------------------------------------------------------------------------------------------------------------------------------------------------------------------------------------------------------------------------------------------------------------------------------------------------------------------------------------------------------------------------------------------------------------------------------------------------------------------------------------------------------------------------------------------------------------------------------------------------------------------------------------------------------------------------------------------------------------------------------------------------------------------------------------------------------------------------------------------------------------------------------------------------------------------------------------------------------------------------------------------------------------------------------------------------------------------------------------------------------------------------------------------------------------------------------------------------------------------------------------------------------------------------------------------------------------------------------------------------------------------------------------------------------------------------------------------------------------------------------------------------------------------------------------------------------------------------------------------------------------------------------------------------------------------------------------------------------------------------------------------------------------------------------------------------------------------------------------------------------------------------------------------------------------------------------------------------------------------------------------------------------------------------------------------------------------------------------------------------------------------------------------------------------------------------------------------------------------------------------------------------------------------------------------------------------------------------------------------------------------------------------------------------------------------------------------------------------------------------------------------------------------------------------------------------------------------------------------------------------------------------------------------------------------------------------------------------------------------------------------------------------------------------------------------------------------------------------------------------------------------------------------------------------------------------------------------------------------------------------------------------------------------------------------------------------------------------------------------------------------------------------------------------------------------------------------------------------------------------------------------------------------------------------------------------------------------------------------------------------------------------------------------------------------------------------------------------------------------------------------------------------------------------------------------------------------------------------------------------------------------------------------------------------------------------------------------------------------------------------------------------------------------------------------------------------------------------------------------------------------------------------------------------------------------------------------------------------------------------------------------------------------------------------------------------------------------------------------------------------------------------------------------------------------------------------------------------------------------------------------------------------------------------------------------------------------------------------------------------------------------------------------------------------------------------------------------------------------------------------------------------------------------------------------------------------------------------------------------------------------------------------------------------------------------------------------+\n",
      "|FGS Autographs|[[obiwan kenobi 393 ewan mcgregor auto, 19.848804473876953], [drew brees autographed, 19.848804473876953], [thomas shelby  cillian murphy auto, 19.848804473876953], [obiwan kenobi 393 ewan mcgregor auto, 12.310779571533203], [drew brees autographed, 12.310779571533203], [thomas shelby  cillian murphy auto, 12.310779571533203], [obiwan kenobi 393 ewan mcgregor auto, 10.99525260925293], [drew brees autographed, 10.99525260925293], [thomas shelby  cillian murphy auto, 10.99525260925293], [obiwan kenobi 393 ewan mcgregor auto, 8.838940620422363], [drew brees autographed, 8.838940620422363], [thomas shelby  cillian murphy auto, 8.838940620422363], [obiwan kenobi 393 ewan mcgregor auto, 8.787063598632812], [drew brees autographed, 8.787063598632812], [thomas shelby  cillian murphy auto, 8.787063598632812], [obiwan kenobi 393 ewan mcgregor auto, 8.217324256896973], [drew brees autographed, 8.217324256896973], [thomas shelby  cillian murphy auto, 8.217324256896973], [obiwan kenobi 393 ewan mcgregor auto, 8.147255897521973], [drew brees autographed, 8.147255897521973], [thomas shelby  cillian murphy auto, 8.147255897521973], [obiwan kenobi 393 ewan mcgregor auto, 8.110843658447266], [drew brees autographed, 8.110843658447266], [thomas shelby  cillian murphy auto, 8.110843658447266], [obiwan kenobi 393 ewan mcgregor auto, 8.034871101379395], [drew brees autographed, 8.034871101379395], [thomas shelby  cillian murphy auto, 8.034871101379395], [obiwan kenobi 393 ewan mcgregor auto, 7.689614772796631], [drew brees autographed, 7.689614772796631], [thomas shelby  cillian murphy auto, 7.689614772796631]]                                                                                                                                                                                                                                                                                                                                                                                                                                                                                                                                                                                                                                                                                                                                                                                                                                                                                                                                                                                                                                                                                                                                                                                                                                                                                                                                                                                                                                                                                                                                                                                                                                                                                                                                                                                                                                                                                                                                                                                                                                                                                                                                                                                                                                                                                                                                                                                                                                                                                                                                                                                                                                                                                                                                                                                                                                                                                                                                                                                                                                                                                                                                                                                                                                                                                                                                                                                                                                                                                                                                                                                                                                                                                                                                                                                                                                                                                                                                                                                                                                                                                                                                                                                                                                                                                                                                                                                                                                                                                                                                                                                                                                                                                                                                                                                                                                                                                                                                                                                                                                                                                                                                                                                                                                                                                                                                                                                                                                                                                                                                                                                                                                                                                                                                                                                                                                                                                                                                                                                                                                                                                                                                                                                                                                                                                                                                                                                                                                                                                                                                                                                                                                                                                                                                                                                                                                                                                                                                                                                                                                                                                                                       |\n",
      "|Griinchzzz    |[[reagan murdock autographed 8x10 print, 2.779101610183716], [ flash auction  funko anakin, 2.779101610183716], [custom nurse joker, 2.779101610183716], [ flash auction  funko altair, 2.779101610183716], [naruto auto, 2.779101610183716], [ flash auction  funko lex, 2.779101610183716], [young leia autograph, 2.779101610183716], [robin signed funko , 2.779101610183716], [boruto funko signed and quoted , 2.779101610183716], [spiderman stealth suit , 2.779101610183716], [noelle diamond autographed, 2.779101610183716], [flash  flying nimbus  goku auto, 2.779101610183716], [naruto hokage auto  flash auction, 2.779101610183716], [flash klaus auto  quote, 2.779101610183716], [goku auto   flash auction , 2.779101610183716], [nico robin auto  flash auction , 2.779101610183716], [traci bingham autographed 8x10 print, 2.779101610183716], [reagan murdock autographed 8x10 print, 2.590129852294922], [ flash auction  funko anakin, 2.590129852294922], [custom nurse joker, 2.590129852294922], [ flash auction  funko altair, 2.590129852294922], [naruto auto, 2.590129852294922], [ flash auction  funko lex, 2.590129852294922], [young leia autograph, 2.590129852294922], [robin signed funko , 2.590129852294922], [boruto funko signed and quoted , 2.590129852294922], [spiderman stealth suit , 2.590129852294922], [noelle diamond autographed, 2.590129852294922], [flash  flying nimbus  goku auto, 2.590129852294922], [naruto hokage auto  flash auction, 2.590129852294922], [flash klaus auto  quote, 2.590129852294922], [goku auto   flash auction , 2.590129852294922], [nico robin auto  flash auction , 2.590129852294922], [traci bingham autographed 8x10 print, 2.590129852294922], [reagan murdock autographed 8x10 print, 2.5667614936828613], [ flash auction  funko anakin, 2.5667614936828613], [custom nurse joker, 2.5667614936828613], [ flash auction  funko altair, 2.5667614936828613], [naruto auto, 2.5667614936828613], [ flash auction  funko lex, 2.5667614936828613], [young leia autograph, 2.5667614936828613], [robin signed funko , 2.5667614936828613], [boruto funko signed and quoted , 2.5667614936828613], [spiderman stealth suit , 2.5667614936828613], [noelle diamond autographed, 2.5667614936828613], [flash  flying nimbus  goku auto, 2.5667614936828613], [naruto hokage auto  flash auction, 2.5667614936828613], [flash klaus auto  quote, 2.5667614936828613], [goku auto   flash auction , 2.5667614936828613], [nico robin auto  flash auction , 2.5667614936828613], [traci bingham autographed 8x10 print, 2.5667614936828613], [reagan murdock autographed 8x10 print, 2.517418146133423], [ flash auction  funko anakin, 2.517418146133423], [custom nurse joker, 2.517418146133423], [ flash auction  funko altair, 2.517418146133423], [naruto auto, 2.517418146133423], [ flash auction  funko lex, 2.517418146133423], [young leia autograph, 2.517418146133423], [robin signed funko , 2.517418146133423], [boruto funko signed and quoted , 2.517418146133423], [spiderman stealth suit , 2.517418146133423], [noelle diamond autographed, 2.517418146133423], [flash  flying nimbus  goku auto, 2.517418146133423], [naruto hokage auto  flash auction, 2.517418146133423], [flash klaus auto  quote, 2.517418146133423], [goku auto   flash auction , 2.517418146133423], [nico robin auto  flash auction , 2.517418146133423], [traci bingham autographed 8x10 print, 2.517418146133423], [reagan murdock autographed 8x10 print, 2.509674072265625], [ flash auction  funko anakin, 2.509674072265625], [custom nurse joker, 2.509674072265625], [ flash auction  funko altair, 2.509674072265625], [naruto auto, 2.509674072265625], [ flash auction  funko lex, 2.509674072265625], [young leia autograph, 2.509674072265625], [robin signed funko , 2.509674072265625], [boruto funko signed and quoted , 2.509674072265625], [spiderman stealth suit , 2.509674072265625], [noelle diamond autographed, 2.509674072265625], [flash  flying nimbus  goku auto, 2.509674072265625], [naruto hokage auto  flash auction, 2.509674072265625], [flash klaus auto  quote, 2.509674072265625], [goku auto   flash auction , 2.509674072265625], [nico robin auto  flash auction , 2.509674072265625], [traci bingham autographed 8x10 print, 2.509674072265625], [reagan murdock autographed 8x10 print, 2.473361015319824], [ flash auction  funko anakin, 2.473361015319824], [custom nurse joker, 2.473361015319824], [ flash auction  funko altair, 2.473361015319824], [naruto auto, 2.473361015319824], [ flash auction  funko lex, 2.473361015319824], [young leia autograph, 2.473361015319824], [robin signed funko , 2.473361015319824], [boruto funko signed and quoted , 2.473361015319824], [spiderman stealth suit , 2.473361015319824], [noelle diamond autographed, 2.473361015319824], [flash  flying nimbus  goku auto, 2.473361015319824], [naruto hokage auto  flash auction, 2.473361015319824], [flash klaus auto  quote, 2.473361015319824], [goku auto   flash auction , 2.473361015319824], [nico robin auto  flash auction , 2.473361015319824], [traci bingham autographed 8x10 print, 2.473361015319824], [reagan murdock autographed 8x10 print, 2.4641404151916504], [ flash auction  funko anakin, 2.4641404151916504], [custom nurse joker, 2.4641404151916504], [ flash auction  funko altair, 2.4641404151916504], [naruto auto, 2.4641404151916504], [ flash auction  funko lex, 2.4641404151916504], [young leia autograph, 2.4641404151916504], [robin signed funko , 2.4641404151916504], [boruto funko signed and quoted , 2.4641404151916504], [spiderman stealth suit , 2.4641404151916504], [noelle diamond autographed, 2.4641404151916504], [flash  flying nimbus  goku auto, 2.4641404151916504], [naruto hokage auto  flash auction, 2.4641404151916504], [flash klaus auto  quote, 2.4641404151916504], [goku auto   flash auction , 2.4641404151916504], [nico robin auto  flash auction , 2.4641404151916504], [traci bingham autographed 8x10 print, 2.4641404151916504], [reagan murdock autographed 8x10 print, 2.4119391441345215], [ flash auction  funko anakin, 2.4119391441345215], [custom nurse joker, 2.4119391441345215], [ flash auction  funko altair, 2.4119391441345215], [naruto auto, 2.4119391441345215], [ flash auction  funko lex, 2.4119391441345215], [young leia autograph, 2.4119391441345215], [robin signed funko , 2.4119391441345215], [boruto funko signed and quoted , 2.4119391441345215], [spiderman stealth suit , 2.4119391441345215], [noelle diamond autographed, 2.4119391441345215], [flash  flying nimbus  goku auto, 2.4119391441345215], [naruto hokage auto  flash auction, 2.4119391441345215], [flash klaus auto  quote, 2.4119391441345215], [goku auto   flash auction , 2.4119391441345215], [nico robin auto  flash auction , 2.4119391441345215], [traci bingham autographed 8x10 print, 2.4119391441345215], [reagan murdock autographed 8x10 print, 2.2246415615081787], [ flash auction  funko anakin, 2.2246415615081787], [custom nurse joker, 2.2246415615081787], [ flash auction  funko altair, 2.2246415615081787], [naruto auto, 2.2246415615081787], [ flash auction  funko lex, 2.2246415615081787], [young leia autograph, 2.2246415615081787], [robin signed funko , 2.2246415615081787], [boruto funko signed and quoted , 2.2246415615081787], [spiderman stealth suit , 2.2246415615081787], [noelle diamond autographed, 2.2246415615081787], [flash  flying nimbus  goku auto, 2.2246415615081787], [naruto hokage auto  flash auction, 2.2246415615081787], [flash klaus auto  quote, 2.2246415615081787], [goku auto   flash auction , 2.2246415615081787], [nico robin auto  flash auction , 2.2246415615081787], [traci bingham autographed 8x10 print, 2.2246415615081787], [reagan murdock autographed 8x10 print, 2.2221415042877197], [ flash auction  funko anakin, 2.2221415042877197], [custom nurse joker, 2.2221415042877197], [ flash auction  funko altair, 2.2221415042877197], [naruto auto, 2.2221415042877197], [ flash auction  funko lex, 2.2221415042877197], [young leia autograph, 2.2221415042877197], [robin signed funko , 2.2221415042877197], [boruto funko signed and quoted , 2.2221415042877197], [spiderman stealth suit , 2.2221415042877197], [noelle diamond autographed, 2.2221415042877197], [flash  flying nimbus  goku auto, 2.2221415042877197], [naruto hokage auto  flash auction, 2.2221415042877197], [flash klaus auto  quote, 2.2221415042877197], [goku auto   flash auction , 2.2221415042877197], [nico robin auto  flash auction , 2.2221415042877197], [traci bingham autographed 8x10 print, 2.2221415042877197]]|\n",
      "|LookingforXmen|[[funko nft lola bunny as jane jetson, 2.8529837131500244], [scarlet witch funko 552, 2.8529837131500244], [funko nft bugs bunny as morpheus, 2.8529837131500244], [werewolf funko shop, 2.8529837131500244], [freddy funko as the flash , 2.8529837131500244], [funko nft lola bunny as jane jetson, 2.5397958755493164], [scarlet witch funko 552, 2.5397958755493164], [funko nft bugs bunny as morpheus, 2.5397958755493164], [werewolf funko shop, 2.5397958755493164], [freddy funko as the flash , 2.5397958755493164], [funko nft lola bunny as jane jetson, 2.4566287994384766], [scarlet witch funko 552, 2.4566287994384766], [funko nft bugs bunny as morpheus, 2.4566287994384766], [werewolf funko shop, 2.4566287994384766], [freddy funko as the flash , 2.4566287994384766], [funko nft lola bunny as jane jetson, 2.22237229347229], [scarlet witch funko 552, 2.22237229347229], [funko nft bugs bunny as morpheus, 2.22237229347229], [werewolf funko shop, 2.22237229347229], [freddy funko as the flash , 2.22237229347229], [funko nft lola bunny as jane jetson, 2.1786205768585205], [scarlet witch funko 552, 2.1786205768585205], [funko nft bugs bunny as morpheus, 2.1786205768585205], [werewolf funko shop, 2.1786205768585205], [freddy funko as the flash , 2.1786205768585205], [funko nft lola bunny as jane jetson, 2.0679502487182617], [scarlet witch funko 552, 2.0679502487182617], [funko nft bugs bunny as morpheus, 2.0679502487182617], [werewolf funko shop, 2.0679502487182617], [freddy funko as the flash , 2.0679502487182617], [funko nft lola bunny as jane jetson, 1.9307856559753418], [scarlet witch funko 552, 1.9307856559753418], [funko nft bugs bunny as morpheus, 1.9307856559753418], [werewolf funko shop, 1.9307856559753418], [freddy funko as the flash , 1.9307856559753418], [funko nft lola bunny as jane jetson, 1.926413655281067], [scarlet witch funko 552, 1.926413655281067], [funko nft bugs bunny as morpheus, 1.926413655281067], [werewolf funko shop, 1.926413655281067], [freddy funko as the flash , 1.926413655281067], [funko nft lola bunny as jane jetson, 1.8939329385757446], [scarlet witch funko 552, 1.8939329385757446], [funko nft bugs bunny as morpheus, 1.8939329385757446], [werewolf funko shop, 1.8939329385757446], [freddy funko as the flash , 1.8939329385757446], [funko nft lola bunny as jane jetson, 1.872673511505127], [scarlet witch funko 552, 1.872673511505127], [funko nft bugs bunny as morpheus, 1.872673511505127], [werewolf funko shop, 1.872673511505127], [freddy funko as the flash , 1.872673511505127]]                                                                                                                                                                                                                                                                                                                                                                                                                                                                                                                                                                                                                                                                                                                                                                                                                                                                                                                                                                                                                                                                                                                                                                                                                                                                                                                                                                                                                                                                                                                                                                                                                                                                                                                                                                                                                                                                                                                                                                                                                                                                                                                                                                                                                                                                                                                                                                                                                                                                                                                                                                                                                                                                                                                                                                                                                                                                                                                                                                                                                                                                                                                                                                                                                                                                                                                                                                                                                                                                                                                                                                                                                                                                                                                                                                                                                                                                                                                                                                                                                                                                                                                                                                                                                                                                                                                                                                                                                                                                                                                                                                                                                                                                                                                                                                                                                                                                                                                                                                                                                                                                                                                                                                                                                                                                                                                                                                                                                                                                                                                                                                                                                                                                                                                                                                                                                                                                                                                                                                                                                                                                                                                                                                     |\n",
      "|SorryMeSoSlow |[[ flash auction  op06, 8.546402931213379], [ flash auction  eb01, 8.546402931213379], [tcg psa one piece law , 8.546402931213379], [funko ellie signed by ashely johnson, 8.546402931213379], [funko darth vader signed by hayden c , 8.546402931213379], [funko captain rex signed by de, 8.546402931213379], [ flash auction  op06, 7.471027374267578], [ flash auction  eb01, 7.471027374267578], [tcg psa one piece law , 7.471027374267578], [funko ellie signed by ashely johnson, 7.471027374267578], [funko darth vader signed by hayden c , 7.471027374267578], [funko captain rex signed by de, 7.471027374267578], [ flash auction  op06, 7.393658638000488], [ flash auction  eb01, 7.393658638000488], [tcg psa one piece law , 7.393658638000488], [funko ellie signed by ashely johnson, 7.393658638000488], [funko darth vader signed by hayden c , 7.393658638000488], [funko captain rex signed by de, 7.393658638000488], [ flash auction  op06, 7.31110143661499], [ flash auction  eb01, 7.31110143661499], [tcg psa one piece law , 7.31110143661499], [funko ellie signed by ashely johnson, 7.31110143661499], [funko darth vader signed by hayden c , 7.31110143661499], [funko captain rex signed by de, 7.31110143661499], [ flash auction  op06, 7.11134147644043], [ flash auction  eb01, 7.11134147644043], [tcg psa one piece law , 7.11134147644043], [funko ellie signed by ashely johnson, 7.11134147644043], [funko darth vader signed by hayden c , 7.11134147644043], [funko captain rex signed by de, 7.11134147644043], [ flash auction  op06, 7.01553201675415], [ flash auction  eb01, 7.01553201675415], [tcg psa one piece law , 7.01553201675415], [funko ellie signed by ashely johnson, 7.01553201675415], [funko darth vader signed by hayden c , 7.01553201675415], [funko captain rex signed by de, 7.01553201675415], [ flash auction  op06, 6.78592586517334], [ flash auction  eb01, 6.78592586517334], [tcg psa one piece law , 6.78592586517334], [funko ellie signed by ashely johnson, 6.78592586517334], [funko darth vader signed by hayden c , 6.78592586517334], [funko captain rex signed by de, 6.78592586517334], [ flash auction  op06, 6.689752578735352], [ flash auction  eb01, 6.689752578735352], [tcg psa one piece law , 6.689752578735352], [funko ellie signed by ashely johnson, 6.689752578735352], [funko darth vader signed by hayden c , 6.689752578735352], [funko captain rex signed by de, 6.689752578735352], [ flash auction  op06, 6.662532806396484], [ flash auction  eb01, 6.662532806396484], [tcg psa one piece law , 6.662532806396484], [funko ellie signed by ashely johnson, 6.662532806396484], [funko darth vader signed by hayden c , 6.662532806396484], [funko captain rex signed by de, 6.662532806396484], [ flash auction  op06, 6.660100936889648], [ flash auction  eb01, 6.660100936889648], [tcg psa one piece law , 6.660100936889648], [funko ellie signed by ashely johnson, 6.660100936889648], [funko darth vader signed by hayden c , 6.660100936889648], [funko captain rex signed by de, 6.660100936889648]]                                                                                                                                                                                                                                                                                                                                                                                                                                                                                                                                                                                                                                                                                                                                                                                                                                                                                                                                                                                                                                                                                                                                                                                                                                                                                                                                                                                                                                                                                                                                                                                                                                                                                                                                                                                                                                                                                                                                                                                                                                                                                                                                                                                                                                                                                                                                                                                                                                                                                                                                                                                                                                                                                                                                                                                                                                                                                                                                                                                                                                                                                                                                                                                                                                                                                                                                                                                                                                                                                                                                                                                                                                                                                                                                                                                                                                                                                                                                                                                                                                                                                                                                                                                                                                                                                                                                                                                                                                                                                                                                                                                                                                                                                                                                                                                                                                                                                                                                                                                                                                                                                                                                                                                                                                                                                                                                                                                                                                                                                                                                                                                                                                                                         |\n",
      "|aaron12       |[[white, 6.971671104431152], [white, 5.327014923095703], [white, 4.9294114112854], [white, 4.561661243438721], [white, 4.488431930541992], [white, 4.438408374786377], [white, 4.404817581176758], [white, 4.12443208694458], [white, 3.9029927253723145], [white, 3.840486526489258]]                                                                                                                                                                                                                                                                                                                                                                                                                                                                                                                                                                                                                                                                                                                                                                                                                                                                                                                                                                                                                                                                                                                                                                                                                                                                                                                                                                                                                                                                                                                                                                                                                                                                                                                                                                                                                                                                                                                                                                                                                                                                                                                                                                                                                                                                                                                                                                                                                                                                                                                                                                                                                                                                                                                                                                                                                                                                                                                                                                                                                                                                                                                                                                                                                                                                                                                                                                                                                                                                                                                                                                                                                                                                                                                                                                                                                                                                                                                                                                                                                                                                                                                                                                                                                                                                                                                                                                                                                                                                                                                                                                                                                                                                                                                                                                                                                                                                                                                                                                                                                                                                                                                                                                                                                                                                                                                                                                                                                                                                                                                                                                                                                                                                                                                                                                                                                                                                                                                                                                                                                                                                                                                                                                                                                                                                                                                                                                                                                                                                                                                                                                                                                                                                                                                                                                                                                                                                                                                                                                                                                                                                                                                                                                                                                                                                                                                                                                                                                                                                                                                                                                                                                                                                                                                                                                                                                                                                                                                                                                                                                                                                                                                                                                                                                                                                                                                                                                                                                                                                                                                 |\n",
      "|aaron44       |[[speak, 16.765148162841797], [young, 16.765148162841797], [exactly, 16.765148162841797], [speak, 14.838006973266602], [young, 14.838006973266602], [exactly, 14.838006973266602], [speak, 14.614381790161133], [young, 14.614381790161133], [exactly, 14.614381790161133], [speak, 13.10657024383545], [young, 13.10657024383545], [exactly, 13.10657024383545], [speak, 12.763588905334473], [young, 12.763588905334473], [exactly, 12.763588905334473], [speak, 12.640289306640625], [young, 12.640289306640625], [exactly, 12.640289306640625], [speak, 12.5961332321167], [young, 12.5961332321167], [exactly, 12.5961332321167], [speak, 12.315107345581055], [young, 12.315107345581055], [exactly, 12.315107345581055], [speak, 11.884344100952148], [young, 11.884344100952148], [exactly, 11.884344100952148], [speak, 11.533724784851074], [young, 11.533724784851074], [exactly, 11.533724784851074]]                                                                                                                                                                                                                                                                                                                                                                                                                                                                                                                                                                                                                                                                                                                                                                                                                                                                                                                                                                                                                                                                                                                                                                                                                                                                                                                                                                                                                                                                                                                                                                                                                                                                                                                                                                                                                                                                                                                                                                                                                                                                                                                                                                                                                                                                                                                                                                                                                                                                                                                                                                                                                                                                                                                                                                                                                                                                                                                                                                                                                                                                                                                                                                                                                                                                                                                                                                                                                                                                                                                                                                                                                                                                                                                                                                                                                                                                                                                                                                                                                                                                                                                                                                                                                                                                                                                                                                                                                                                                                                                                                                                                                                                                                                                                                                                                                                                                                                                                                                                                                                                                                                                                                                                                                                                                                                                                                                                                                                                                                                                                                                                                                                                                                                                                                                                                                                                                                                                                                                                                                                                                                                                                                                                                                                                                                                                                                                                                                                                                                                                                                                                                                                                                                                                                                                                                                                                                                                                                                                                                                                                                                                                                                                                                                                                                                                                                                                                                                                                                                                                                                                                                                                                                                                                                                                                                                                                                                      |\n",
      "|aaron99       |[[improve, 13.905285835266113], [unit, 13.905285835266113], [improve, 8.330680847167969], [unit, 8.330680847167969], [improve, 8.324592590332031], [unit, 8.324592590332031], [improve, 8.086454391479492], [unit, 8.086454391479492], [improve, 7.947072505950928], [unit, 7.947072505950928], [improve, 7.9108357429504395], [unit, 7.9108357429504395], [improve, 7.857892990112305], [unit, 7.857892990112305], [improve, 7.809391498565674], [unit, 7.809391498565674], [improve, 7.7454400062561035], [unit, 7.7454400062561035], [improve, 7.740915298461914], [unit, 7.740915298461914]]                                                                                                                                                                                                                                                                                                                                                                                                                                                                                                                                                                                                                                                                                                                                                                                                                                                                                                                                                                                                                                                                                                                                                                                                                                                                                                                                                                                                                                                                                                                                                                                                                                                                                                                                                                                                                                                                                                                                                                                                                                                                                                                                                                                                                                                                                                                                                                                                                                                                                                                                                                                                                                                                                                                                                                                                                                                                                                                                                                                                                                                                                                                                                                                                                                                                                                                                                                                                                                                                                                                                                                                                                                                                                                                                                                                                                                                                                                                                                                                                                                                                                                                                                                                                                                                                                                                                                                                                                                                                                                                                                                                                                                                                                                                                                                                                                                                                                                                                                                                                                                                                                                                                                                                                                                                                                                                                                                                                                                                                                                                                                                                                                                                                                                                                                                                                                                                                                                                                                                                                                                                                                                                                                                                                                                                                                                                                                                                                                                                                                                                                                                                                                                                                                                                                                                                                                                                                                                                                                                                                                                                                                                                                                                                                                                                                                                                                                                                                                                                                                                                                                                                                                                                                                                                                                                                                                                                                                                                                                                                                                                                                                                                                                                                                       |\n",
      "|aaronalexander|[[write, 3.9866583347320557], [write, 2.73079252243042], [write, 2.6716957092285156], [write, 2.5866219997406006], [write, 2.4667649269104004], [write, 2.380392074584961], [write, 2.3422083854675293], [write, 2.2939062118530273], [write, 2.2929654121398926], [write, 2.2513065338134766]]                                                                                                                                                                                                                                                                                                                                                                                                                                                                                                                                                                                                                                                                                                                                                                                                                                                                                                                                                                                                                                                                                                                                                                                                                                                                                                                                                                                                                                                                                                                                                                                                                                                                                                                                                                                                                                                                                                                                                                                                                                                                                                                                                                                                                                                                                                                                                                                                                                                                                                                                                                                                                                                                                                                                                                                                                                                                                                                                                                                                                                                                                                                                                                                                                                                                                                                                                                                                                                                                                                                                                                                                                                                                                                                                                                                                                                                                                                                                                                                                                                                                                                                                                                                                                                                                                                                                                                                                                                                                                                                                                                                                                                                                                                                                                                                                                                                                                                                                                                                                                                                                                                                                                                                                                                                                                                                                                                                                                                                                                                                                                                                                                                                                                                                                                                                                                                                                                                                                                                                                                                                                                                                                                                                                                                                                                                                                                                                                                                                                                                                                                                                                                                                                                                                                                                                                                                                                                                                                                                                                                                                                                                                                                                                                                                                                                                                                                                                                                                                                                                                                                                                                                                                                                                                                                                                                                                                                                                                                                                                                                                                                                                                                                                                                                                                                                                                                                                                                                                                                                                        |\n",
      "|aaronandrews  |[[discussion, 17.933420181274414], [discussion, 12.313729286193848], [discussion, 11.529681205749512], [discussion, 11.05190658569336], [discussion, 10.99617862701416], [discussion, 10.858329772949219], [discussion, 10.706655502319336], [discussion, 10.670866966247559], [discussion, 10.59676742553711], [discussion, 10.535981178283691]]                                                                                                                                                                                                                                                                                                                                                                                                                                                                                                                                                                                                                                                                                                                                                                                                                                                                                                                                                                                                                                                                                                                                                                                                                                                                                                                                                                                                                                                                                                                                                                                                                                                                                                                                                                                                                                                                                                                                                                                                                                                                                                                                                                                                                                                                                                                                                                                                                                                                                                                                                                                                                                                                                                                                                                                                                                                                                                                                                                                                                                                                                                                                                                                                                                                                                                                                                                                                                                                                                                                                                                                                                                                                                                                                                                                                                                                                                                                                                                                                                                                                                                                                                                                                                                                                                                                                                                                                                                                                                                                                                                                                                                                                                                                                                                                                                                                                                                                                                                                                                                                                                                                                                                                                                                                                                                                                                                                                                                                                                                                                                                                                                                                                                                                                                                                                                                                                                                                                                                                                                                                                                                                                                                                                                                                                                                                                                                                                                                                                                                                                                                                                                                                                                                                                                                                                                                                                                                                                                                                                                                                                                                                                                                                                                                                                                                                                                                                                                                                                                                                                                                                                                                                                                                                                                                                                                                                                                                                                                                                                                                                                                                                                                                                                                                                                                                                                                                                                                                                      |\n",
      "|abarry        |[[agent, 6.973044395446777], [agent, 4.96552038192749], [agent, 4.567427158355713], [agent, 4.466938018798828], [agent, 4.3993048667907715], [agent, 4.318110942840576], [agent, 4.278134346008301], [agent, 4.199715614318848], [agent, 4.130104064941406], [agent, 4.122496604919434]]                                                                                                                                                                                                                                                                                                                                                                                                                                                                                                                                                                                                                                                                                                                                                                                                                                                                                                                                                                                                                                                                                                                                                                                                                                                                                                                                                                                                                                                                                                                                                                                                                                                                                                                                                                                                                                                                                                                                                                                                                                                                                                                                                                                                                                                                                                                                                                                                                                                                                                                                                                                                                                                                                                                                                                                                                                                                                                                                                                                                                                                                                                                                                                                                                                                                                                                                                                                                                                                                                                                                                                                                                                                                                                                                                                                                                                                                                                                                                                                                                                                                                                                                                                                                                                                                                                                                                                                                                                                                                                                                                                                                                                                                                                                                                                                                                                                                                                                                                                                                                                                                                                                                                                                                                                                                                                                                                                                                                                                                                                                                                                                                                                                                                                                                                                                                                                                                                                                                                                                                                                                                                                                                                                                                                                                                                                                                                                                                                                                                                                                                                                                                                                                                                                                                                                                                                                                                                                                                                                                                                                                                                                                                                                                                                                                                                                                                                                                                                                                                                                                                                                                                                                                                                                                                                                                                                                                                                                                                                                                                                                                                                                                                                                                                                                                                                                                                                                                                                                                                                                               |\n",
      "|abigail47     |[[talk, 9.965399742126465], [talk, 6.900169372558594], [talk, 6.685310363769531], [talk, 6.381579875946045], [talk, 6.008777618408203], [talk, 5.871057987213135], [talk, 5.857721328735352], [talk, 5.837181568145752], [talk, 5.8306074142456055], [talk, 5.70852518081665]]                                                                                                                                                                                                                                                                                                                                                                                                                                                                                                                                                                                                                                                                                                                                                                                                                                                                                                                                                                                                                                                                                                                                                                                                                                                                                                                                                                                                                                                                                                                                                                                                                                                                                                                                                                                                                                                                                                                                                                                                                                                                                                                                                                                                                                                                                                                                                                                                                                                                                                                                                                                                                                                                                                                                                                                                                                                                                                                                                                                                                                                                                                                                                                                                                                                                                                                                                                                                                                                                                                                                                                                                                                                                                                                                                                                                                                                                                                                                                                                                                                                                                                                                                                                                                                                                                                                                                                                                                                                                                                                                                                                                                                                                                                                                                                                                                                                                                                                                                                                                                                                                                                                                                                                                                                                                                                                                                                                                                                                                                                                                                                                                                                                                                                                                                                                                                                                                                                                                                                                                                                                                                                                                                                                                                                                                                                                                                                                                                                                                                                                                                                                                                                                                                                                                                                                                                                                                                                                                                                                                                                                                                                                                                                                                                                                                                                                                                                                                                                                                                                                                                                                                                                                                                                                                                                                                                                                                                                                                                                                                                                                                                                                                                                                                                                                                                                                                                                                                                                                                                                                         |\n",
      "|abigail83     |[[especially, 6.978486061096191], [especially, 3.8303165435791016], [especially, 3.58740234375], [especially, 3.495774030685425], [especially, 3.4364075660705566], [especially, 3.4047317504882812], [especially, 3.365593433380127], [especially, 3.3587567806243896], [especially, 3.312082529067993], [especially, 3.2388789653778076]]                                                                                                                                                                                                                                                                                                                                                                                                                                                                                                                                                                                                                                                                                                                                                                                                                                                                                                                                                                                                                                                                                                                                                                                                                                                                                                                                                                                                                                                                                                                                                                                                                                                                                                                                                                                                                                                                                                                                                                                                                                                                                                                                                                                                                                                                                                                                                                                                                                                                                                                                                                                                                                                                                                                                                                                                                                                                                                                                                                                                                                                                                                                                                                                                                                                                                                                                                                                                                                                                                                                                                                                                                                                                                                                                                                                                                                                                                                                                                                                                                                                                                                                                                                                                                                                                                                                                                                                                                                                                                                                                                                                                                                                                                                                                                                                                                                                                                                                                                                                                                                                                                                                                                                                                                                                                                                                                                                                                                                                                                                                                                                                                                                                                                                                                                                                                                                                                                                                                                                                                                                                                                                                                                                                                                                                                                                                                                                                                                                                                                                                                                                                                                                                                                                                                                                                                                                                                                                                                                                                                                                                                                                                                                                                                                                                                                                                                                                                                                                                                                                                                                                                                                                                                                                                                                                                                                                                                                                                                                                                                                                                                                                                                                                                                                                                                                                                                                                                                                                                            |\n",
      "|abigaildaniels|[[whom, 1.992658019065857], [whom, 1.4705721139907837], [whom, 1.4352256059646606], [whom, 1.3052698373794556], [whom, 1.2529915571212769], [whom, 1.222848653793335], [whom, 1.2180198431015015], [whom, 1.2104099988937378], [whom, 1.209876537322998], [whom, 1.199950098991394]]                                                                                                                                                                                                                                                                                                                                                                                                                                                                                                                                                                                                                                                                                                                                                                                                                                                                                                                                                                                                                                                                                                                                                                                                                                                                                                                                                                                                                                                                                                                                                                                                                                                                                                                                                                                                                                                                                                                                                                                                                                                                                                                                                                                                                                                                                                                                                                                                                                                                                                                                                                                                                                                                                                                                                                                                                                                                                                                                                                                                                                                                                                                                                                                                                                                                                                                                                                                                                                                                                                                                                                                                                                                                                                                                                                                                                                                                                                                                                                                                                                                                                                                                                                                                                                                                                                                                                                                                                                                                                                                                                                                                                                                                                                                                                                                                                                                                                                                                                                                                                                                                                                                                                                                                                                                                                                                                                                                                                                                                                                                                                                                                                                                                                                                                                                                                                                                                                                                                                                                                                                                                                                                                                                                                                                                                                                                                                                                                                                                                                                                                                                                                                                                                                                                                                                                                                                                                                                                                                                                                                                                                                                                                                                                                                                                                                                                                                                                                                                                                                                                                                                                                                                                                                                                                                                                                                                                                                                                                                                                                                                                                                                                                                                                                                                                                                                                                                                                                                                                                                                                   |\n",
      "|acantrell     |[[method, 14.883185386657715], [training, 14.883185386657715], [method, 11.712878227233887], [training, 11.712878227233887], [method, 10.266471862792969], [training, 10.266471862792969], [method, 10.252250671386719], [training, 10.252250671386719], [method, 10.166555404663086], [training, 10.166555404663086], [method, 9.663276672363281], [training, 9.663276672363281], [method, 9.444232940673828], [training, 9.444232940673828], [method, 9.423223495483398], [training, 9.423223495483398], [method, 9.317310333251953], [training, 9.317310333251953], [method, 9.233551979064941], [training, 9.233551979064941]]                                                                                                                                                                                                                                                                                                                                                                                                                                                                                                                                                                                                                                                                                                                                                                                                                                                                                                                                                                                                                                                                                                                                                                                                                                                                                                                                                                                                                                                                                                                                                                                                                                                                                                                                                                                                                                                                                                                                                                                                                                                                                                                                                                                                                                                                                                                                                                                                                                                                                                                                                                                                                                                                                                                                                                                                                                                                                                                                                                                                                                                                                                                                                                                                                                                                                                                                                                                                                                                                                                                                                                                                                                                                                                                                                                                                                                                                                                                                                                                                                                                                                                                                                                                                                                                                                                                                                                                                                                                                                                                                                                                                                                                                                                                                                                                                                                                                                                                                                                                                                                                                                                                                                                                                                                                                                                                                                                                                                                                                                                                                                                                                                                                                                                                                                                                                                                                                                                                                                                                                                                                                                                                                                                                                                                                                                                                                                                                                                                                                                                                                                                                                                                                                                                                                                                                                                                                                                                                                                                                                                                                                                                                                                                                                                                                                                                                                                                                                                                                                                                                                                                                                                                                                                                                                                                                                                                                                                                                                                                                                                                                                                                                                                                     |\n",
      "|acevedosusan  |[[often, 17.93161392211914], [often, 16.341663360595703], [often, 15.074470520019531], [often, 11.43216609954834], [often, 11.214645385742188], [often, 11.111438751220703], [often, 11.003519058227539], [often, 10.745104789733887], [often, 10.265312194824219], [often, 10.245892524719238]]                                                                                                                                                                                                                                                                                                                                                                                                                                                                                                                                                                                                                                                                                                                                                                                                                                                                                                                                                                                                                                                                                                                                                                                                                                                                                                                                                                                                                                                                                                                                                                                                                                                                                                                                                                                                                                                                                                                                                                                                                                                                                                                                                                                                                                                                                                                                                                                                                                                                                                                                                                                                                                                                                                                                                                                                                                                                                                                                                                                                                                                                                                                                                                                                                                                                                                                                                                                                                                                                                                                                                                                                                                                                                                                                                                                                                                                                                                                                                                                                                                                                                                                                                                                                                                                                                                                                                                                                                                                                                                                                                                                                                                                                                                                                                                                                                                                                                                                                                                                                                                                                                                                                                                                                                                                                                                                                                                                                                                                                                                                                                                                                                                                                                                                                                                                                                                                                                                                                                                                                                                                                                                                                                                                                                                                                                                                                                                                                                                                                                                                                                                                                                                                                                                                                                                                                                                                                                                                                                                                                                                                                                                                                                                                                                                                                                                                                                                                                                                                                                                                                                                                                                                                                                                                                                                                                                                                                                                                                                                                                                                                                                                                                                                                                                                                                                                                                                                                                                                                                                                       |\n",
      "|achambers     |[[fear, 14.938974380493164], [fear, 11.159006118774414], [fear, 11.054827690124512], [fear, 10.743193626403809], [fear, 10.271330833435059], [fear, 10.134747505187988], [fear, 9.794193267822266], [fear, 9.716652870178223], [fear, 9.716278076171875], [fear, 9.670783042907715]]                                                                                                                                                                                                                                                                                                                                                                                                                                                                                                                                                                                                                                                                                                                                                                                                                                                                                                                                                                                                                                                                                                                                                                                                                                                                                                                                                                                                                                                                                                                                                                                                                                                                                                                                                                                                                                                                                                                                                                                                                                                                                                                                                                                                                                                                                                                                                                                                                                                                                                                                                                                                                                                                                                                                                                                                                                                                                                                                                                                                                                                                                                                                                                                                                                                                                                                                                                                                                                                                                                                                                                                                                                                                                                                                                                                                                                                                                                                                                                                                                                                                                                                                                                                                                                                                                                                                                                                                                                                                                                                                                                                                                                                                                                                                                                                                                                                                                                                                                                                                                                                                                                                                                                                                                                                                                                                                                                                                                                                                                                                                                                                                                                                                                                                                                                                                                                                                                                                                                                                                                                                                                                                                                                                                                                                                                                                                                                                                                                                                                                                                                                                                                                                                                                                                                                                                                                                                                                                                                                                                                                                                                                                                                                                                                                                                                                                                                                                                                                                                                                                                                                                                                                                                                                                                                                                                                                                                                                                                                                                                                                                                                                                                                                                                                                                                                                                                                                                                                                                                                                                   |\n",
      "|acochran      |[[usually, 14.919178009033203], [scene, 14.919178009033203], [usually, 13.935733795166016], [scene, 13.935733795166016], [usually, 13.450533866882324], [scene, 13.450533866882324], [usually, 9.372013092041016], [scene, 9.372013092041016], [usually, 8.986111640930176], [scene, 8.986111640930176], [usually, 8.835542678833008], [scene, 8.835542678833008], [usually, 8.779139518737793], [scene, 8.779139518737793], [usually, 8.685115814208984], [scene, 8.685115814208984], [usually, 8.5966215133667], [scene, 8.5966215133667], [usually, 8.538006782531738], [scene, 8.538006782531738]]                                                                                                                                                                                                                                                                                                                                                                                                                                                                                                                                                                                                                                                                                                                                                                                                                                                                                                                                                                                                                                                                                                                                                                                                                                                                                                                                                                                                                                                                                                                                                                                                                                                                                                                                                                                                                                                                                                                                                                                                                                                                                                                                                                                                                                                                                                                                                                                                                                                                                                                                                                                                                                                                                                                                                                                                                                                                                                                                                                                                                                                                                                                                                                                                                                                                                                                                                                                                                                                                                                                                                                                                                                                                                                                                                                                                                                                                                                                                                                                                                                                                                                                                                                                                                                                                                                                                                                                                                                                                                                                                                                                                                                                                                                                                                                                                                                                                                                                                                                                                                                                                                                                                                                                                                                                                                                                                                                                                                                                                                                                                                                                                                                                                                                                                                                                                                                                                                                                                                                                                                                                                                                                                                                                                                                                                                                                                                                                                                                                                                                                                                                                                                                                                                                                                                                                                                                                                                                                                                                                                                                                                                                                                                                                                                                                                                                                                                                                                                                                                                                                                                                                                                                                                                                                                                                                                                                                                                                                                                                                                                                                                                                                                                                                                 |\n",
      "|adam02        |[[image, 13.943482398986816], [image, 8.851133346557617], [image, 8.499650001525879], [image, 8.238692283630371], [image, 8.19887638092041], [image, 8.18910026550293], [image, 8.137965202331543], [image, 8.129678726196289], [image, 7.978781700134277], [image, 7.7636189460754395]]                                                                                                                                                                                                                                                                                                                                                                                                                                                                                                                                                                                                                                                                                                                                                                                                                                                                                                                                                                                                                                                                                                                                                                                                                                                                                                                                                                                                                                                                                                                                                                                                                                                                                                                                                                                                                                                                                                                                                                                                                                                                                                                                                                                                                                                                                                                                                                                                                                                                                                                                                                                                                                                                                                                                                                                                                                                                                                                                                                                                                                                                                                                                                                                                                                                                                                                                                                                                                                                                                                                                                                                                                                                                                                                                                                                                                                                                                                                                                                                                                                                                                                                                                                                                                                                                                                                                                                                                                                                                                                                                                                                                                                                                                                                                                                                                                                                                                                                                                                                                                                                                                                                                                                                                                                                                                                                                                                                                                                                                                                                                                                                                                                                                                                                                                                                                                                                                                                                                                                                                                                                                                                                                                                                                                                                                                                                                                                                                                                                                                                                                                                                                                                                                                                                                                                                                                                                                                                                                                                                                                                                                                                                                                                                                                                                                                                                                                                                                                                                                                                                                                                                                                                                                                                                                                                                                                                                                                                                                                                                                                                                                                                                                                                                                                                                                                                                                                                                                                                                                                                               |\n",
      "|adam13        |[[president, 14.946356773376465], [president, 10.502025604248047], [president, 9.808004379272461], [president, 9.205772399902344], [president, 9.182518005371094], [president, 9.110584259033203], [president, 8.678680419921875], [president, 8.600685119628906], [president, 8.458114624023438], [president, 8.440473556518555]]                                                                                                                                                                                                                                                                                                                                                                                                                                                                                                                                                                                                                                                                                                                                                                                                                                                                                                                                                                                                                                                                                                                                                                                                                                                                                                                                                                                                                                                                                                                                                                                                                                                                                                                                                                                                                                                                                                                                                                                                                                                                                                                                                                                                                                                                                                                                                                                                                                                                                                                                                                                                                                                                                                                                                                                                                                                                                                                                                                                                                                                                                                                                                                                                                                                                                                                                                                                                                                                                                                                                                                                                                                                                                                                                                                                                                                                                                                                                                                                                                                                                                                                                                                                                                                                                                                                                                                                                                                                                                                                                                                                                                                                                                                                                                                                                                                                                                                                                                                                                                                                                                                                                                                                                                                                                                                                                                                                                                                                                                                                                                                                                                                                                                                                                                                                                                                                                                                                                                                                                                                                                                                                                                                                                                                                                                                                                                                                                                                                                                                                                                                                                                                                                                                                                                                                                                                                                                                                                                                                                                                                                                                                                                                                                                                                                                                                                                                                                                                                                                                                                                                                                                                                                                                                                                                                                                                                                                                                                                                                                                                                                                                                                                                                                                                                                                                                                                                                                                                                                     |\n",
      "|adam63        |[[level, 16.897809982299805], [ten, 16.897809982299805], [level, 13.918678283691406], [ten, 13.918678283691406], [level, 13.084927558898926], [ten, 13.084927558898926], [level, 13.03006649017334], [ten, 13.03006649017334], [level, 12.862005233764648], [ten, 12.862005233764648], [level, 12.632796287536621], [ten, 12.632796287536621], [level, 12.562013626098633], [ten, 12.562013626098633], [level, 12.1587553024292], [ten, 12.1587553024292], [level, 12.114697456359863], [ten, 12.114697456359863], [level, 12.061853408813477], [ten, 12.061853408813477]]                                                                                                                                                                                                                                                                                                                                                                                                                                                                                                                                                                                                                                                                                                                                                                                                                                                                                                                                                                                                                                                                                                                                                                                                                                                                                                                                                                                                                                                                                                                                                                                                                                                                                                                                                                                                                                                                                                                                                                                                                                                                                                                                                                                                                                                                                                                                                                                                                                                                                                                                                                                                                                                                                                                                                                                                                                                                                                                                                                                                                                                                                                                                                                                                                                                                                                                                                                                                                                                                                                                                                                                                                                                                                                                                                                                                                                                                                                                                                                                                                                                                                                                                                                                                                                                                                                                                                                                                                                                                                                                                                                                                                                                                                                                                                                                                                                                                                                                                                                                                                                                                                                                                                                                                                                                                                                                                                                                                                                                                                                                                                                                                                                                                                                                                                                                                                                                                                                                                                                                                                                                                                                                                                                                                                                                                                                                                                                                                                                                                                                                                                                                                                                                                                                                                                                                                                                                                                                                                                                                                                                                                                                                                                                                                                                                                                                                                                                                                                                                                                                                                                                                                                                                                                                                                                                                                                                                                                                                                                                                                                                                                                                                                                                                                                             |\n",
      "+--------------+-------------------------------------------------------------------------------------------------------------------------------------------------------------------------------------------------------------------------------------------------------------------------------------------------------------------------------------------------------------------------------------------------------------------------------------------------------------------------------------------------------------------------------------------------------------------------------------------------------------------------------------------------------------------------------------------------------------------------------------------------------------------------------------------------------------------------------------------------------------------------------------------------------------------------------------------------------------------------------------------------------------------------------------------------------------------------------------------------------------------------------------------------------------------------------------------------------------------------------------------------------------------------------------------------------------------------------------------------------------------------------------------------------------------------------------------------------------------------------------------------------------------------------------------------------------------------------------------------------------------------------------------------------------------------------------------------------------------------------------------------------------------------------------------------------------------------------------------------------------------------------------------------------------------------------------------------------------------------------------------------------------------------------------------------------------------------------------------------------------------------------------------------------------------------------------------------------------------------------------------------------------------------------------------------------------------------------------------------------------------------------------------------------------------------------------------------------------------------------------------------------------------------------------------------------------------------------------------------------------------------------------------------------------------------------------------------------------------------------------------------------------------------------------------------------------------------------------------------------------------------------------------------------------------------------------------------------------------------------------------------------------------------------------------------------------------------------------------------------------------------------------------------------------------------------------------------------------------------------------------------------------------------------------------------------------------------------------------------------------------------------------------------------------------------------------------------------------------------------------------------------------------------------------------------------------------------------------------------------------------------------------------------------------------------------------------------------------------------------------------------------------------------------------------------------------------------------------------------------------------------------------------------------------------------------------------------------------------------------------------------------------------------------------------------------------------------------------------------------------------------------------------------------------------------------------------------------------------------------------------------------------------------------------------------------------------------------------------------------------------------------------------------------------------------------------------------------------------------------------------------------------------------------------------------------------------------------------------------------------------------------------------------------------------------------------------------------------------------------------------------------------------------------------------------------------------------------------------------------------------------------------------------------------------------------------------------------------------------------------------------------------------------------------------------------------------------------------------------------------------------------------------------------------------------------------------------------------------------------------------------------------------------------------------------------------------------------------------------------------------------------------------------------------------------------------------------------------------------------------------------------------------------------------------------------------------------------------------------------------------------------------------------------------------------------------------------------------------------------------------------------------------------------------------------------------------------------------------------------------------------------------------------------------------------------------------------------------------------------------------------------------------------------------------------------------------------------------------------------------------------------------------------------------------------------------------------------------------------------------------------------------------------------------------------------------------------------------------------------------------------------------------------------------------------------------------------------------------------------------------------------------------------------------------------------------------------------------------------------------------------------------------------------------------------------------------------------------------------------------------------------------------------------------------------------------------------------------------------------------------------------------------------------------------------------------------------------------------------------------------------------------------------------------------------------------------------------------------------------------------------------------------------------------------------------------------------------------------------------------------------------------------------------------------------------------------------------------------------------------------------------------------------------------------------------------------------------------------------------------------------------------------------------------------------------------------------------------------------------------------------------------------------------------------------------------------------------------------------------------------------------------------------------------------------------------------------------------------------------------------------------------------------------------------------------------------------------------------------------------------------------------------------------------------------------------------------------------------------------------------------------------------------------------------------------------------------------------------------------------------------------------------------------------------------------------------------------------------------------------------------------------------------------------------------------------------------------------------------------------------------------------------------------------------------------------------------------------------------------------------------------------------------------------------------------------------------------------------------------------------------------------------------------------------------------+\n",
      "only showing top 20 rows"
     ]
    }
   ],
   "source": [
    "from pyspark.sql.functions import collect_list, struct\n",
    "\n",
    "# Assuming 'final_recommendations_df' is your DataFrame\n",
    "# Group by 'userName' and collect products into a list\n",
    "user_recommendations = final_recommendations_df.groupBy(\"userName\").agg(\n",
    "    collect_list(struct(\"product\", \"total_bids\")).alias(\"recommendations\")\n",
    ")\n",
    "\n",
    "# Show sample data\n",
    "user_recommendations.show(truncate=False)\n"
   ]
  },
  {
   "cell_type": "code",
   "execution_count": 47,
   "metadata": {},
   "outputs": [
    {
     "data": {
      "application/vnd.jupyter.widget-view+json": {
       "model_id": "",
       "version_major": 2,
       "version_minor": 0
      },
      "text/plain": [
       "FloatProgress(value=0.0, bar_style='info', description='Progress:', layout=Layout(height='25px', width='50%'),…"
      ]
     },
     "metadata": {},
     "output_type": "display_data"
    }
   ],
   "source": [
    "import json\n",
    "\n",
    "# Convert DataFrame to JSON\n",
    "json_rdd = user_recommendations.toJSON()\n",
    "#json_rdd.saveAsTextFile(\"path/to/output/json\")  # Intermediate save, not to S3 yet"
   ]
  },
  {
   "cell_type": "code",
   "execution_count": 49,
   "metadata": {},
   "outputs": [
    {
     "data": {
      "application/vnd.jupyter.widget-view+json": {
       "model_id": "",
       "version_major": 2,
       "version_minor": 0
      },
      "text/plain": [
       "FloatProgress(value=0.0, bar_style='info', description='Progress:', layout=Layout(height='25px', width='50%'),…"
      ]
     },
     "metadata": {},
     "output_type": "display_data"
    }
   ],
   "source": [
    "# Define your S3 bucket and path\n",
    "output_path = \"s3://reibucket/recommendations\"\n",
    "\n",
    "user_recommendations.write.mode(\"overwrite\").json(output_path)\n"
   ]
  },
  {
   "cell_type": "code",
   "execution_count": null,
   "metadata": {},
   "outputs": [],
   "source": []
  }
 ],
 "metadata": {
  "kernelspec": {
   "display_name": "PySpark",
   "language": "",
   "name": "pysparkkernel"
  },
  "language_info": {
   "codemirror_mode": {
    "name": "python",
    "version": 3
   },
   "mimetype": "text/x-python",
   "name": "pyspark",
   "pygments_lexer": "python3"
  }
 },
 "nbformat": 4,
 "nbformat_minor": 4
}
